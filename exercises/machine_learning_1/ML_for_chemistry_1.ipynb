{
 "cells": [
  {
   "cell_type": "markdown",
   "metadata": {},
   "source": [
    "# Machine learning for chemistry 1"
   ]
  },
  {
   "cell_type": "markdown",
   "metadata": {},
   "source": [
    "This exercise is for practising to representation of molecules and kernel-ridge regression (KRR) method in ML for chemistry. We will train the atomization energies of molecules and predict unknown ones.\n",
    "\n",
    "Required packages include numpy, scikit-learn, qml, etc. \n",
    "\n",
    "#### Required packages:\n",
    "Scikit-learn https://scikit-learn.org/stable/  \n",
    "QML https://github.com/qmlcode/qml \n",
    "\n",
    "Please make sure you have QML installed on your python environment. If not, please follow http://www.qmlcode.org/installation.html\n",
    "\n",
    "This exerices is created based on a turorial https://github.com/qmlcode/tutorial given by Anders Steen Christensen, etc."
   ]
  },
  {
   "cell_type": "markdown",
   "metadata": {},
   "source": [
    "## Load numpy and QML into Jupyter Notebook"
   ]
  },
  {
   "cell_type": "code",
   "execution_count": null,
   "metadata": {},
   "outputs": [],
   "source": [
    "!pip install seaborn\n",
    "!pin install pandas\n",
    "!pip install scikit-learn\n",
    "!pip install qml"
   ]
  },
  {
   "cell_type": "code",
   "execution_count": 1,
   "metadata": {},
   "outputs": [
    {
     "name": "stdout",
     "output_type": "stream",
     "text": [
      "QML version: 0.2.1\n"
     ]
    }
   ],
   "source": [
    "import os\n",
    "import random\n",
    "import numpy as np\n",
    "import seaborn as sns\n",
    "import pandas as pd\n",
    "from sklearn.model_selection import train_test_split\n",
    "from sklearn.kernel_ridge import KernelRidge\n",
    "from sklearn import metrics\n",
    "\n",
    "try:\n",
    "    import qml\n",
    "    from qml.representations import get_slatm_mbtypes\n",
    "    print(\"QML version:\",qml.__version__)\n",
    "except ImportError:\n",
    "    print(\"Failed to find QML\")\n",
    "    print(\"Please follow instructions here: http://www.qmlcode.org/installation.html\")"
   ]
  },
  {
   "cell_type": "markdown",
   "metadata": {},
   "source": [
    "## Representations\n",
    "\n",
    "Representation is for converting molecules into something that ML model could read, i.e. representing molecules.\n",
    "\n",
    "In this exercise we use QML to generate the Coulomb matrix representation. \n",
    "\n",
    "In QML data can be parsed via the <font color=red>Compound</font> class, which stores data and generates representations in Numpy's ndarray format.\n",
    "\n",
    "If you run the code below, you will read in the file <font color=red>qm7/0001.xyz</font> (a methane molecule) and generate a coulomb matrix representation."
   ]
  },
  {
   "cell_type": "code",
   "execution_count": 2,
   "metadata": {
    "scrolled": true
   },
   "outputs": [
    {
     "name": "stdout",
     "output_type": "stream",
     "text": [
      "[36.8581052   5.50857022  0.5         5.50857007  0.56221501  0.5\n",
      "  5.5085695   0.56221605  0.56221611  0.5         5.50856526  0.56221669\n",
      "  0.56221777  0.56221405  0.5       ]\n"
     ]
    }
   ],
   "source": [
    "# Create the compound object mol from the file qm7/0001.xyz which happens to be methane\n",
    "mol = qml.Compound(xyz=\"qm7/0001.xyz\")\n",
    "\n",
    "# you can select other descriptors here\n",
    "# full list here http://www.qmlcode.org/qml.html#module-qml.representations\n",
    "\n",
    "# Generate and print a coulomb matrix for compound with 5 atoms \n",
    "mol.generate_coulomb_matrix(size=5, sorting=\"row-norm\")\n",
    "\n",
    "# another e.g. Generate Spectrum of London and Axillrod-Teller-Muto potential (SLATM) representation\n",
    "# ref: http://www.qmlcode.org/qml.html#qml.representations.generate_slatm\n",
    "# mbtypes = get_slatm_mbtypes([qml.Compound(xyz=\"qm7/0001.xyz\").nuclear_charges])\n",
    "# mol.generate_slatm(mbtypes, local=False)\n",
    "\n",
    "print(mol.representation)"
   ]
  },
  {
   "cell_type": "markdown",
   "metadata": {},
   "source": [
    "The representations are simply stored as 1D-vectors.\n",
    "Note the keyword <font color=red>size</font> which is the largest number of atoms in a molecule occurring in test or training set. \n",
    "\n",
    "More settings about generate_coulomb_matri, please check http://www.qmlcode.org/qml.html#qml.representations.generate_coulomb_matrix  You could also take a look how to implement other representations.\n",
    "\n",
    "Lastly, you can print the following properties which is read from the XYZ file:"
   ]
  },
  {
   "cell_type": "code",
   "execution_count": 3,
   "metadata": {},
   "outputs": [
    {
     "name": "stdout",
     "output_type": "stream",
     "text": [
      "[[ 1.041682 -0.0562   -0.071481]\n",
      " [ 2.130894 -0.056202 -0.071496]\n",
      " [ 0.678598  0.174941 -1.072044]\n",
      " [ 0.678613  0.694746  0.62898 ]\n",
      " [ 0.678614 -1.038285  0.228641]]\n",
      "['C', 'H', 'H', 'H', 'H']\n",
      "[6 1 1 1 1]\n"
     ]
    }
   ],
   "source": [
    "# Print other properties stored in the object\n",
    "print(mol.coordinates)\n",
    "print(mol.atomtypes)\n",
    "print(mol.nuclear_charges)"
   ]
  },
  {
   "cell_type": "markdown",
   "metadata": {},
   "source": [
    "## Kernels\n",
    "\n",
    "In KRR method, kernel is the key component to mapping from high dimension to low dimension data. You could play with different kernels.\n",
    "\n",
    "### Theory \n",
    "Regression model of some property, \n",
    "\n",
    "\\begin{equation*}\n",
    "y\n",
    "\\end{equation*}\n",
    "\n",
    "for some system, \n",
    "\n",
    "\\begin{equation*}\n",
    "\\widetilde{\\mathbf{X}}\n",
    "\\end{equation*}\n",
    "\n",
    "this could correspond to e.g. the atomization energy of a molecule:\n",
    "\n",
    "\\begin{equation*}\n",
    "y\\left(\\widetilde{\\mathbf{X}} \\right) = \\sum_i \\omega_i \\  K\\left( \\widetilde{\\mathbf{X}}, \\mathbf{X}_i\\right)\n",
    "\\end{equation*}\n",
    "\n",
    "E.g. Using Gaussian kernel function with Frobenius norm:\n",
    "\n",
    "\\begin{equation*}\n",
    "K_{ij} = K\\left( \\mathbf{X}_i, \\mathbf{X}_j\\right) = \\exp\\left( -\\frac{\\| \\mathbf{X}_i - \\mathbf{X}_j\\|_2^2}{2\\sigma^2}\\right)\n",
    "\\end{equation*}\n",
    "\n",
    "Regression coefficients $\\boldsymbol{\\omega}$ are obtained through kernel matrix inversion and multiplication with reference labels\n",
    "\n",
    "\\begin{equation*}\n",
    "\\boldsymbol{\\omega} = (\\mathbf{K} + \\alpha \\mathbf{I})^{-1} \\mathbf{y}\n",
    "\\end{equation*}"
   ]
  },
  {
   "cell_type": "code",
   "execution_count": 60,
   "metadata": {},
   "outputs": [],
   "source": [
    "# select the kernel you wish to use for fitting\n",
    "# different kernels as a learning exercise\n",
    "\n",
    "# gamma, alpha is defined in the following website\n",
    "# https://scikit-learn.org/stable/modules/generated/sklearn.kernel_ridge.KernelRidge.html#sklearn-kernel-ridge-kernelridge\n",
    "sigma = 1000               # sigma in above Gaussian kernel equation\n",
    "gamma = 1.0/(2*sigma**2)   # this is for Gaussian kernel\n",
    "alpha = 1e-8               # regularization term in KRR\n",
    "\n",
    "# The \"rbf\" kernel is defined https://scikit-learn.org/stable/modules/metrics.html#rbf-kernel \n",
    "# possible kernels include ‘additive_chi2’, ‘chi2’, ‘linear’, ‘poly’, ‘polynomial’, ‘rbf’, ‘laplacian’, ‘sigmoid’, ‘cosine’\n",
    "kernel = KernelRidge(gamma=gamma, kernel=\"rbf\", alpha=alpha)          # Gaussian kernel\n",
    "# kernel = KernelRidge(gamma=gamma, kernel=\"laplacian\", alpha=alpha)      # Laplacian kernel"
   ]
  },
  {
   "cell_type": "markdown",
   "metadata": {},
   "source": [
    "## Dataset\n",
    "\n",
    "Above example is for illustration purpose, only use one molecule. Now we read in more molecules.\n",
    "\n",
    "Together with this jupyter notebook file, there is a QM7 dataset (atomization energies in qm7_energies.txt and relaxed geometries at PBE0/def2-TZVP level in QM7 directory) for ~7k GDB1-7 molecules. \n",
    "[Ruddigkeit et al, J Chem Inf Model, 2012](https://pubs.acs.org/doi/abs/10.1021/ci300415d)\n",
    "[Rupp et al, Phys Rev Letters, 2012](https://journals.aps.org/prl/abstract/10.1103/PhysRevLett.108.058301)\n",
    "\n",
    "We will use them as the dataset."
   ]
  },
  {
   "cell_type": "code",
   "execution_count": 61,
   "metadata": {},
   "outputs": [],
   "source": [
    "# Import QM7, already parsed to QML\n",
    "# first column in \"hof_qm7.txt\" is the file name, second column is the atomization energies\n",
    "f = open(\"qm7_energies.txt\", \"r\")\n",
    "lines = f.readlines()\n",
    "f.close()\n",
    "\n",
    "qm7_dft_energy = dict()\n",
    "\n",
    "for line in lines:\n",
    "    tokens = line.split()\n",
    "    qm7_dft_energy[tokens[0]] = float(tokens[1])\n",
    "\n",
    "# read in strcutures of all the molecules\n",
    "compounds = [qml.Compound(xyz=\"qm7/\"+f) for f in sorted(os.listdir(\"qm7/\"))]\n",
    "\n",
    "for mol in compounds:\n",
    "    mol.properties = qm7_dft_energy[mol.name]\n",
    "    \n",
    "# shuffle these ordered structures into random\n",
    "random.seed(666)\n",
    "random.shuffle(compounds)\n",
    "\n",
    "energy_pbe0 = np.array([mol.properties for mol in compounds])\n",
    "\n",
    "# For every compound generate a coulomb matrix\n",
    "for mol in compounds: #can lower this if you need to via compounds[:1000] to just use first 1k molecules\n",
    "    mol.generate_coulomb_matrix(size=23, sorting=\"row-norm\")\n",
    "    \n",
    "\n",
    "# observable we are trying to predict\n",
    "y = energy_pbe0\n",
    "# molecular descriptor from qml\n",
    "X = np.array([mol.representation for mol in compounds]) \n",
    "\n",
    "# split our data into testing data and training data with sklearn\n",
    "# randomly select 10 percent of the given data to be used as a test\n",
    "# the rest will be assigned to be used as training data\n",
    "X_train, X_test, y_train, y_test = train_test_split(X, y, test_size=0.1)"
   ]
  },
  {
   "cell_type": "markdown",
   "metadata": {},
   "source": [
    "Before we start fitting data, let us take a moment to examine the data we are working with. For this, we use seaborn to look at the range of values we are trying to predict."
   ]
  },
  {
   "cell_type": "code",
   "execution_count": 62,
   "metadata": {},
   "outputs": [
    {
     "data": {
      "text/plain": [
       "<AxesSubplot:ylabel='Density'>"
      ]
     },
     "execution_count": 62,
     "metadata": {},
     "output_type": "execute_result"
    },
    {
     "data": {
      "image/png": "[encoded data removed]",
      "text/plain": [
       "<Figure size 432x288 with 1 Axes>"
      ]
     },
     "metadata": {
      "needs_background": "light"
     },
     "output_type": "display_data"
    }
   ],
   "source": [
    "sns.kdeplot(energy_pbe0, shade=True, cut=0)"
   ]
  },
  {
   "cell_type": "markdown",
   "metadata": {},
   "source": [
    "## Regression and Prediction"
   ]
  },
  {
   "cell_type": "code",
   "execution_count": 63,
   "metadata": {},
   "outputs": [],
   "source": [
    "# find the fitting coeffecients\n",
    "kernel.fit(X_train, y_train)\n",
    "\n",
    "\n",
    "# and make predictions on test data\n",
    "predictions = kernel.predict(X_test)"
   ]
  },
  {
   "cell_type": "markdown",
   "metadata": {},
   "source": [
    "## Error\n",
    "\n",
    "We have now predicted the energies for the test set, let us now see how well the model worked."
   ]
  },
  {
   "cell_type": "code",
   "execution_count": 64,
   "metadata": {},
   "outputs": [
    {
     "name": "stdout",
     "output_type": "stream",
     "text": [
      "MAE: 8.400127962373983 kcal/mol\n",
      "MSE: 125.48005282880713 kcal/mol\n",
      "RMSE: 11.201787930005064 kcal/mol\n"
     ]
    },
    {
     "data": {
      "image/png": "[encoded data removed]",
      "text/plain": [
       "<Figure size 432x432 with 1 Axes>"
      ]
     },
     "metadata": {
      "needs_background": "light"
     },
     "output_type": "display_data"
    }
   ],
   "source": [
    "data=pd.DataFrame(data={'Actual Energy [kcal/mol]': y_test, 'Predicted Energy [kcal/mol]': predictions})\n",
    "sns.lmplot(x=\"Actual Energy [kcal/mol]\",y=\"Predicted Energy [kcal/mol]\", truncate=True, data=data, height=6)\n",
    "\n",
    "print('MAE:', metrics.mean_absolute_error(y_test, predictions), \"kcal/mol\")\n",
    "print('MSE:', metrics.mean_squared_error(y_test, predictions), \"kcal/mol\")\n",
    "print('RMSE:', np.sqrt(metrics.mean_squared_error(y_test, predictions)), \"kcal/mol\")"
   ]
  }
 ],
 "metadata": {
  "anaconda-cloud": {},
  "kernelspec": {
   "display_name": "Python 3 (ipykernel)",
   "language": "python",
   "name": "python3"
  },
  "language_info": {
   "codemirror_mode": {
    "name": "ipython",
    "version": 3
   },
   "file_extension": ".py",
   "mimetype": "text/x-python",
   "name": "python",
   "nbconvert_exporter": "python",
   "pygments_lexer": "ipython3",
   "version": "3.9.7"
  }
 },
 "nbformat": 4,
 "nbformat_minor": 2
}
