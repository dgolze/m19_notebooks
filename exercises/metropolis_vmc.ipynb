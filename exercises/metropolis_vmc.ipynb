{
 "cells": [
  {
   "cell_type": "markdown",
   "id": "3509eef5",
   "metadata": {},
   "source": [
    "# Hydrogen atom energy using Monte Carlo methods"
   ]
  },
  {
   "cell_type": "markdown",
   "id": "ef43b636",
   "metadata": {},
   "source": [
    "## Introduction\n",
    "\n",
    "We will build up this exercise on the example Hydrogen calculation introduced on the lecture about QMC methods. In particular, we will use the same model wave function, and the same helper functions, which are repeated here for conveniency: "
   ]
  },
  {
   "cell_type": "code",
   "execution_count": 2,
   "id": "5c65331d",
   "metadata": {},
   "outputs": [],
   "source": [
    "# Import libraries\n",
    "\n",
    "import # TODO\n",
    "\n",
    "# Define functions\n",
    "\n",
    "def pot(R):\n",
    "    \"\"\"Computes coulomb potential for electrons\n",
    "    V(R)=\\frac{1}{\\sqrt{x^2+y^2+z^2}}\n",
    "    \"\"\"\n",
    "    # TODO\n",
    "    pass\n",
    "\n",
    "def psi(a, R):\n",
    "    \"\"\"Computes hydrogen wave function\n",
    "    \\Psi(R)=e^{-a|R|}\n",
    "    \"\"\"\n",
    "    # TODO\n",
    "    pass\n",
    "\n",
    "def kin(a, R):\n",
    "    \"\"\"Computes local kinetic energy\n",
    "    T_L(R)=-\\frac{1}{2}\\left(a^2 - \\frac{2a}{|R|} \\right)\n",
    "    \"\"\"\n",
    "    # TODO\n",
    "    pass\n",
    "\n",
    "def e_loc(a, R):\n",
    "    \"\"\"Computes the local energy for the hydrogen\n",
    "    E_L(R)=T_L(R)+V(R)\n",
    "    \"\"\"\n",
    "    # TODO\n",
    "    pass\n",
    "\n",
    "def stats(E):\n",
    "    \"\"\"Computes average and variance of sample.\"\"\"\n",
    "    ave = # TODO\n",
    "    err = # TODO\n",
    "    return ave, err"
   ]
  },
  {
   "cell_type": "markdown",
   "id": "4d547fe3",
   "metadata": {},
   "source": [
    "## Theoretical description\n",
    "\n",
    "The example in the lecture notes was illustrative enough, but we can actually do a lot better with the statistical error. To achieve that, we need of course a more sophisticated algorithm: Metropolis. We will sample the local energy with the following probability:\n",
    "\n",
    "$$P(R)=\\frac{\\Psi(R)^2}{\\int dR \\Psi(R)^2}$$\n",
    "\n",
    "**Question:** what is the motivation of choosing this probability distribution?\n",
    "\n",
    "The expression of the variational energy is in this case:\n",
    "\n",
    "$$E_v \\approx \\frac{1}{N_{MC}}\\sum_{i=1}^{N_{MC}}E_L(R_i)$$\n",
    "\n",
    "where $N_{MC}$ is the number of Monte Carlo steps. We will move the electrons on a cube of edge $2L$, centered at the electron's position:\n",
    "\n",
    "$$R_n = R_{n-1}+\\text{rnd}(L)$$\n",
    "\n",
    "The acceptance probability will be given by:\n",
    "\n",
    "$$A(R_n, R_{n-1})=\\min\\left(1,\\frac{P(R_{n})g(R_{n-1} | R_{n})}{P(R_{n-1})g(R_{n} | R_{n-1})}\\right)=\\min\\left(1,\\frac{\\Psi(R_n)^2}{\\Psi(R_{n-1})^2}\\right)$$\n",
    "\n",
    "**Exercise:** Explain the second equality."
   ]
  },
  {
   "cell_type": "markdown",
   "id": "3cc7b07c",
   "metadata": {},
   "source": [
    "## Algorithm\n",
    "\n",
    "- While true:\n",
    "  1. Select initial coordinates $R_0$\n",
    "  2. Draw $R' \\sim g(R' \\mid R_{n-1})=\\frac{1}{2L}$\n",
    "  3. Compute acceptance probability \n",
    "     $$A(R', R_{n-1})=\\min\\left(1,\\frac{\\Psi(R')^2}{\\Psi(R_{n-1})^2}\\right)$$\n",
    "  4. With probability $A(R', R_{n-1})$ set $R_n = R'$, otherwise $R_n = R_{n-1}$"
   ]
  },
  {
   "cell_type": "markdown",
   "id": "c0dea4ee",
   "metadata": {},
   "source": [
    "## Main tasks\n",
    "\n",
    "1. Complete the missing code blocks in the bellow implementation of the proposed algorithm. \n",
    "2. Compare the results with the ones obained in the lecture's example. Explain the observed error reduction.\n",
    "3. Compute the so called acceptance ratio, defined as the number of accepted steps divided by the total number of steps. Tune the algorithm parameters to make the acceptance ratio $\\sim0.5$"
   ]
  },
  {
   "cell_type": "code",
   "execution_count": null,
   "id": "166a3496",
   "metadata": {},
   "outputs": [],
   "source": [
    "def monte_carlo(a, nmc, l):\n",
    "    \"\"\"Metropolis Monte Carlo simulation of the hydorgen atom\"\"\"\n",
    "    # Local energy and acceptance\n",
    "    ener, arat = 0, 0\n",
    "\n",
    "    # Initial coordinates and wave function\n",
    "    r_old = # TODO\n",
    "    psi_old = psi(a, r_old)\n",
    "\n",
    "    for _ in np.arange(nmc):\n",
    "        # Accumulate energy\n",
    "        # TODO\n",
    "\n",
    "        # Proposal move\n",
    "        r_new = # TODO\n",
    "        psi_new = psi(a, r_new)\n",
    "\n",
    "        # Acceptance probability\n",
    "        a_new_old = # TODO\n",
    "\n",
    "        if # TODO:\n",
    "            arat += # TODO\n",
    "            r_old = # TODO\n",
    "            psi_old = # TODO\n",
    "\n",
    "    return # TODO\n",
    "\n",
    "# Set simulation conditions\n",
    "a = 1.2\n",
    "nmc = 1000\n",
    "l = 1.0\n",
    "nsa = 15\n",
    "\n",
    "# Draw samples\n",
    "XE = np.zeros(nsa)\n",
    "XA = np.zeros(nsa)\n",
    "for idx in np.arange(nsa):\n",
    "    # TODO\n",
    "\n",
    "# Compute estimator of variational energy and error\n",
    "E, err = stats(XE)\n",
    "print(f\"E = {E} +/- {err}\")\n",
    "\n",
    "# Compute estimator of acceptance ratio and error\n",
    "# TODO"
   ]
  }
 ],
 "metadata": {
  "kernelspec": {
   "display_name": "Python 3 (ipykernel)",
   "language": "python",
   "name": "python3"
  },
  "language_info": {
   "codemirror_mode": {
    "name": "ipython",
    "version": 3
   },
   "file_extension": ".py",
   "mimetype": "text/x-python",
   "name": "python",
   "nbconvert_exporter": "python",
   "pygments_lexer": "ipython3",
   "version": "3.10.8"
  }
 },
 "nbformat": 4,
 "nbformat_minor": 5
}
