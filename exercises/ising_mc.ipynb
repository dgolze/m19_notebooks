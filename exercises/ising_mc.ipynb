{
 "cells": [
  {
   "cell_type": "markdown",
   "metadata": {},
   "source": [
    "Ising model using Monte Carlo methods\n",
    "=====================================\n",
    "\n"
   ]
  },
  {
   "cell_type": "markdown",
   "metadata": {},
   "source": [
    "## Theoretical description\n",
    "\n"
   ]
  },
  {
   "cell_type": "markdown",
   "metadata": {},
   "source": [
    "The [Ising model](https://en.wikipedia.org/wiki/Ising_model) is a statistical mechanics model originally developed to study [ferromagnetism](https://en.wikipedia.org/wiki/Ferromagnetism). A system\n",
    "of magnetic particles can be described by a two dimensional arrangement (lattice) of atoms. To each atom\n",
    "$i$ on the lattice, a discrete spin magnetic moment $\\sigma_i=\\pm 1$ is assigned.\n",
    "\n",
    "<img src=\"./figures/ising_grid_small.png\" alt=\"Schematic representation of the 2D spin arrangement\" width=\"200\"/>\n",
    "\n",
    "The Hamiltonian of the system is given by:\n",
    "\n",
    "<div class=\"LaTeX\" id=\"orgd1901d9\">\n",
    "\\begin{equation}\n",
    "H = J\\sum_{\\langle ij \\rangle} \\sigma_i\\sigma_j\n",
    "\\end{equation}\n",
    "\n",
    "</div>\n",
    "\n",
    "where the symbol $\\langle ij \\rangle$ implies a sum over the nearest neighbors and $J$ is the strength\n",
    "of the exchange interaction. We will consider in this example ferromagnetic systems only, which implies\n",
    "a value of $J > 0$.\n",
    "\n",
    "The canonical [partition function](https://en.wikipedia.org/wiki/Partition_function_(statistical_mechanics)) of the system is given by:\n",
    "\n",
    "<div class=\"LaTeX\" id=\"org82178ff\">\n",
    "\\begin{equation}\n",
    "Z(\\beta) = \\sum_S e^{-\\beta H}\n",
    "\\end{equation}\n",
    "\n",
    "</div>\n",
    "\n",
    "where $\\beta = 1/k_B T$ with $T$ being the temperature and $k_B$ the Boltzmann’s constant. The sum runs\n",
    "over all possible spin configurations $S$ of the system. Following the statistical mechanics reasoning, observables\n",
    "are computed as follows:\n",
    "\n",
    "<div class=\"LaTeX\" id=\"org42b9c84\">\n",
    "\\begin{equation}\n",
    "\\langle O \\rangle = \\frac{1}{Z(\\beta)}\\sum_S O(S) e^{-\\beta H}\n",
    "\\end{equation}\n",
    "\n",
    "</div>\n",
    "\n",
    "The estimation of the observable's value is then given by:\n",
    "\n",
    "<div class=\"LaTeX\" id=\"org98c35d0\">\n",
    "\\begin{equation}\n",
    "\\langle O \\rangle \\approx \\frac{1}{N} \\sum_i^{N} O_i \n",
    "\\end{equation}\n",
    "\n",
    "</div>\n",
    "\n",
    "The total number of states for a square grid of length $L$ (**How many are there?**) suffers\n",
    "from the [curse of dimensionality](https://en.wikipedia.org/wiki/Curse_of_dimensionality). In addition,\n",
    "the exact solutions of the 2D Ising model are rather difficult to derive, see this [blog post](https://gandhiviswanathan.wordpress.com/2015/01/09/onsagers-solution-of-the-2-d-ising-model-the-combinatorial-method/) for a very nice sketch of the derivation. For these reasons, Monte Carlo methods are a great tool\n",
    "to study this system.\n"
   ]
  },
  {
   "cell_type": "markdown",
   "metadata": {},
   "source": [
    "### Metropolis algorithm\n",
    "\n"
   ]
  },
  {
   "cell_type": "markdown",
   "metadata": {},
   "source": [
    "We will assume ergodicity in our implementation, together with the `single spin-flip dynamics` principle.\n",
    "This means that in each transition we will change only one spin site on the lattice. We can then set our\n",
    "transition probability to:\n",
    "\n",
    "<div class=\"LaTeX\" id=\"orgecc279e\">\n",
    "\\begin{equation}\n",
    "P(x, y) = g(x, y)A(x, y)\n",
    "\\end{equation}\n",
    "\n",
    "</div>\n",
    "\n",
    "where the selection probability is homogeneous $g(x, y) = 1/L^2$. The acceptance probability can be\n",
    "set to the Metropolis choice after applying [detail balance](https://en.wikipedia.org/wiki/Detailed_balance):\n",
    "\n",
    "<div class=\"LaTeX\" id=\"orgffab8ae\">\n",
    "\\begin{equation}\n",
    "A(x, y) = \n",
    "  \\begin{cases}\n",
    "   e^{-\\beta (H_x - H_y)} & H_x - H_y > 0 \\\\\n",
    "   1 & \\text{otherwise}\n",
    "  \\end{cases}\n",
    "\\end{equation}\n",
    "\n",
    "</div>\n",
    "\n",
    "The algorithm's steps are then:\n",
    "\n",
    "1.  Pick a spin site with probability $g(x, y)$ and flip it\n",
    "2.  Compute the energy change $\\delta H=H_x-H_y$\n",
    "3.  Accept the new configuration with probability $A(x, y)$\n",
    "4.  Repeat\n",
    "\n"
   ]
  },
  {
   "cell_type": "markdown",
   "metadata": {},
   "source": [
    "## Coding exercise\n",
    "\n"
   ]
  },
  {
   "cell_type": "markdown",
   "metadata": {},
   "source": [
    "### Setting the environment\n",
    "\n"
   ]
  },
  {
   "cell_type": "code",
   "execution_count": null,
   "metadata": {},
   "outputs": [],
   "source": [
    "\"\"\"Imports and global variables\"\"\"\n",
    "import numpy as np\n",
    "import matplotlib.pyplot as plt"
   ]
  },
  {
   "cell_type": "markdown",
   "metadata": {},
   "source": [
    "### Main functions\n",
    "\n"
   ]
  },
  {
   "cell_type": "code",
   "execution_count": null,
   "metadata": {},
   "outputs": [],
   "source": [
    "def init_state(L):\n",
    "    \"\"\"Initialized spin grid\"\"\"\n",
    "    #TODO\n",
    "\n",
    "def energ(grid, L):\n",
    "    \"\"\"Compute energy of new configuration\"\"\"\n",
    "    en = 0\n",
    "    for i in np.arange(L):\n",
    "        for j in np.arange(L):\n",
    "            s = grid[i, j]\n",
    "            neighbor_s = grid[(i + 1) % L, j] + \\\n",
    "                         grid[(i - 1) % L, j] + \\\n",
    "                         grid[i, (j + 1) % L] + \\\n",
    "                         grid[i, (j - 1) % L]\n",
    "            en -= s * neighbor_s\n",
    "    return en / 2\n",
    "\n",
    "\n",
    "def mc_update(grid, beta, L):\n",
    "    \"\"\"Updating step using the MH algorithm\"\"\"\n",
    "    for _ in np.arange(L * L):\n",
    "        # Select a center with probability 1/L^2\n",
    "        # TODO\n",
    "        \n",
    "        # Get the spin value from selected center\n",
    "        # TODO\n",
    "        \n",
    "        # Periodic boundary conditions (4 neighbors)\n",
    "        neighbor_s = grid[(i + 1) % L, j] + \\\n",
    "                     grid[(i - 1) % L, j] + \\\n",
    "                     grid[i, (j + 1) % L] + \\\n",
    "                     grid[i, (j - 1) % L]\n",
    "        \n",
    "        # Change in energy\n",
    "        dE = 2 * s * neighbor_s\n",
    "        \n",
    "        # Apply acceptance criterion\n",
    "        # TODO\n",
    "            \n",
    "        # Update spin site\n",
    "        # TODO\n",
    "    \n",
    "    return grid\n"
   ]
  },
  {
   "cell_type": "markdown",
   "metadata": {},
   "source": [
    "### Set numerical experiment conditions\n",
    "\n"
   ]
  },
  {
   "cell_type": "markdown",
   "metadata": {},
   "source": [
    "These are the input parameters of the simulation, they can be tuned in order to speed up or refine the results.\n",
    "For convenience reasons, the temperature will be given in units of $[k_B/J]\\cdot K$.\n",
    "\n"
   ]
  },
  {
   "cell_type": "code",
   "execution_count": null,
   "metadata": {},
   "outputs": [],
   "source": [
    "# Parameter initialization (expensive settings, consider lowering)\n",
    "NTEMP = 30\n",
    "TEMP = np.linspace(1.5, 3.25, NTEMP)\n",
    "LENGHT = 10\n",
    "NSTEPS = 30000\n",
    "\n",
    "# Variables initialization\n",
    "ENERG = np.zeros(NTEMP)"
   ]
  },
  {
   "cell_type": "markdown",
   "metadata": {},
   "source": [
    "### Run the simulation and compute expectation value\n",
    "\n"
   ]
  },
  {
   "cell_type": "code",
   "execution_count": null,
   "metadata": {},
   "outputs": [],
   "source": [
    "for tdx, tval in enumerate(TEMP):\n",
    "    # Compute beta factor\n",
    "    BETA = 1 / tval\n",
    "\n",
    "    # Initial grid\n",
    "    GRID = init_state(LENGHT)\n",
    "\n",
    "    # Run Monte Carlo steps\n",
    "    ENT = 0\n",
    "    # TODO\n",
    "\n",
    "    # Set energy value\n",
    "    ENERG[tdx] = ENT / (NSTEPS * LENGHT * LENGHT)"
   ]
  },
  {
   "cell_type": "markdown",
   "metadata": {},
   "source": [
    "### Find critical temperature\n",
    "\n"
   ]
  },
  {
   "cell_type": "code",
   "execution_count": null,
   "metadata": {
    "scrolled": true
   },
   "outputs": [],
   "source": [
    "# PLot curve\n",
    "plt.plot(TEMP, ENERG, 'o-')\n",
    "\n",
    "# Inflection point\n",
    "# TODO\n",
    "\n",
    "# Show\n",
    "# TODO (add labels with correct units)\n",
    "plt.show()"
   ]
  },
  {
   "cell_type": "markdown",
   "metadata": {},
   "source": [
    "### Questions:\n",
    "\n"
   ]
  },
  {
   "cell_type": "markdown",
   "metadata": {},
   "source": [
    "1.  Complete all missing code sections\n",
    "2.  Plot the energy temperature curve\n",
    "3.  Which are the units of the energy and temperature on the plot?\n",
    "4.  What is the value of the critical temperature? Compare with the [analytical](https://en.wikipedia.org/wiki/Square_lattice_Ising_model#Critical_temperature) value.\n",
    "\n"
   ]
  }
 ],
 "metadata": {
  "kernelspec": {
   "display_name": "Python 3 (ipykernel)",
   "language": "python",
   "name": "python3"
  },
  "language_info": {
   "codemirror_mode": {
    "name": "ipython",
    "version": 3
   },
   "file_extension": ".py",
   "mimetype": "text/x-python",
   "name": "python",
   "nbconvert_exporter": "python",
   "pygments_lexer": "ipython3",
   "version": "3.10.7"
  },
  "org": null
 },
 "nbformat": 4,
 "nbformat_minor": 1
}
