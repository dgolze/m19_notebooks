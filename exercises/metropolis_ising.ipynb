{
 "cells": [
  {
   "cell_type": "markdown",
   "metadata": {},
   "source": [
    "Ising model using Monte Carlo methods\n",
    "=====================================\n",
    "\n"
   ]
  },
  {
   "cell_type": "markdown",
   "metadata": {},
   "source": [
    "## Theoretical description\n",
    "\n"
   ]
  },
  {
   "cell_type": "markdown",
   "metadata": {},
   "source": [
    "The [Ising model](https://en.wikipedia.org/wiki/Ising_model) is a statistical mechanics model originally developed to study [ferromagnetism](https://en.wikipedia.org/wiki/Ferromagnetism). A system\n",
    "of magnetic particles can be described by a two dimensional arrangement (lattice) of atoms. To each atom\n",
    "$i$ on the lattice, a discrete spin magnetic moment $\\sigma_i=\\pm 1$ is assigned.\n",
    "\n",
    "<img src=\"../figures/ising_grid_small.png\" alt=\"Schematic representation of the 2D spin arrangement\" width=\"200\"/>\n",
    "\n",
    "The Hamiltonian of the system is given by:\n",
    "\n",
    "<div class=\"LaTeX\" id=\"orgd1901d9\">\n",
    "\\begin{equation}\n",
    "H = -J\\sum_{\\langle ij \\rangle} \\sigma_i\\sigma_j\n",
    "\\end{equation}\n",
    "\n",
    "</div>\n",
    "\n",
    "where the symbol $\\langle ij \\rangle$ implies a sum over the nearest neighbors and $J$ is the strength\n",
    "of the exchange interaction. We will consider in this example ferromagnetic systems only, which implies\n",
    "a value of $J > 0$. In the following exercise we set it to 1. \n",
    "\n",
    "The canonical [partition function](https://en.wikipedia.org/wiki/Partition_function_(statistical_mechanics)) of the system is given by:\n",
    "\n",
    "<div class=\"LaTeX\" id=\"org82178ff\">\n",
    "\\begin{equation}\n",
    "Z(\\beta) = \\sum_S e^{-\\beta H}\n",
    "\\end{equation}\n",
    "\n",
    "</div>\n",
    "\n",
    "where $\\beta = 1/k_B T$ with $T$ being the temperature and $k_B$ the Boltzmann’s constant. The sum runs\n",
    "over all possible spin configurations $S$ of the system. Following the statistical mechanics reasoning, observables\n",
    "are computed as follows:\n",
    "\n",
    "<div class=\"LaTeX\" id=\"org42b9c84\">\n",
    "\\begin{equation}\n",
    "{\\langle O \\rangle} = \\frac{1}{Z(\\beta)}\\sum_S O(S) e^{-\\beta H}\n",
    "\\end{equation}\n",
    "\n",
    "</div>\n",
    "\n",
    "The total number of states for a square grid of length $L$ (**How many are there?**) suffers\n",
    "from the [curse of dimensionality](https://en.wikipedia.org/wiki/Curse_of_dimensionality). In addition,\n",
    "the exact solutions of the 2D Ising model are rather difficult to derive, see this [blog post](https://gandhiviswanathan.wordpress.com/2015/01/09/onsagers-solution-of-the-2-d-ising-model-the-combinatorial-method/) for a very nice sketch of the derivation. For these reasons, Monte Carlo methods are a great tool\n",
    "to study this system.\n",
    "\n",
    "Using the following Metropolis algorithm, instead, the estimation of the observable's value is then given by:\n",
    "\n",
    "<div class=\"LaTeX\" id=\"org98c35d0\">\n",
    "\\begin{equation}\n",
    "\\langle O \\rangle \\approx \\frac{1}{N} \\sum_i^{N} O_i\n",
    "\\end{equation}\n",
    "\n",
    "</div>\n",
    "\n"
   ]
  },
  {
   "cell_type": "markdown",
   "metadata": {},
   "source": [
    "### Metropolis algorithm\n",
    "\n"
   ]
  },
  {
   "cell_type": "markdown",
   "metadata": {},
   "source": [
    "We will assume ergodicity in our implementation, together with the `single spin-flip dynamics` principle.\n",
    "This means that in each transition we will change only one spin site on the lattice. We can then set our\n",
    "transition probability to:\n",
    "\n",
    "<div class=\"LaTeX\" id=\"orgecc279e\">\n",
    "\\begin{equation}\n",
    "P(x, y) = g(x, y)A(x, y)\n",
    "\\end{equation}\n",
    "\n",
    "</div>\n",
    "\n",
    "where the selection probability is homogeneous $g(x, y) = 1/L^2$. The acceptance probability can be\n",
    "set to the Metropolis choice after applying [detail balance](https://en.wikipedia.org/wiki/Detailed_balance):\n",
    "\n",
    "<div class=\"LaTeX\" id=\"orgffab8ae\">\n",
    "\\begin{equation}\n",
    "A(x, y) = \n",
    "  \\begin{cases}\n",
    "   e^{-\\beta ( \\delta E)} & \\delta E > 0 \\\\\n",
    "   1 & \\text{otherwise}\n",
    "  \\end{cases}\n",
    "\\end{equation}\n",
    "\n",
    "</div>\n",
    "$\\delta$ E is the energy difference between two sampling configurations.\n",
    "\n",
    "The algorithm's steps are then:\n",
    "\n",
    "1.  Pick a spin site with probability $g(x, y)$ and flip it\n",
    "2.  Compute the energy change $\\delta E$\n",
    "3.  Accept the new configuration with probability $A(x, y)$\n",
    "4.  Repeat\n",
    "\n"
   ]
  },
  {
   "cell_type": "markdown",
   "metadata": {},
   "source": [
    "## Coding exercise\n",
    "\n"
   ]
  },
  {
   "cell_type": "markdown",
   "metadata": {},
   "source": [
    "### Setting the environment\n",
    "\n"
   ]
  },
  {
   "cell_type": "code",
   "execution_count": 2,
   "metadata": {
    "tags": []
   },
   "outputs": [
    {
     "name": "stdout",
     "output_type": "stream",
     "text": [
      "Collecting numpy\n",
      "  Obtaining dependency information for numpy from https://files.pythonhosted.org/packages/b9/14/78635daab4b07c0930c919d451b8bf8c164774e6a3413aed04a6d95758ce/numpy-2.0.2-cp39-cp39-manylinux_2_17_x86_64.manylinux2014_x86_64.whl.metadata\n",
      "  Downloading numpy-2.0.2-cp39-cp39-manylinux_2_17_x86_64.manylinux2014_x86_64.whl.metadata (60 kB)\n",
      "\u001b[2K     \u001b[90m━━━━━━━━━━━━━━━━━━━━━━━━━━━━━━━━━━━━━━━━\u001b[0m \u001b[32m60.9/60.9 kB\u001b[0m \u001b[31m2.1 MB/s\u001b[0m eta \u001b[36m0:00:00\u001b[0m\n",
      "\u001b[?25hDownloading numpy-2.0.2-cp39-cp39-manylinux_2_17_x86_64.manylinux2014_x86_64.whl (19.5 MB)\n",
      "\u001b[2K   \u001b[90m━━━━━━━━━━━━━━━━━━━━━━━━━━━━━━━━━━━━━━━━\u001b[0m \u001b[32m19.5/19.5 MB\u001b[0m \u001b[31m3.5 MB/s\u001b[0m eta \u001b[36m0:00:00\u001b[0m00:01\u001b[0m00:01\u001b[0m\n",
      "\u001b[?25hInstalling collected packages: numpy\n",
      "Successfully installed numpy-2.0.2\n",
      "Collecting matplotlib\n",
      "  Obtaining dependency information for matplotlib from https://files.pythonhosted.org/packages/5a/20/f56d5b88450593ccde3f283e338f3f976b2e479bddd9a147f14f66ee1ca7/matplotlib-3.9.2-cp39-cp39-manylinux_2_17_x86_64.manylinux2014_x86_64.whl.metadata\n",
      "  Downloading matplotlib-3.9.2-cp39-cp39-manylinux_2_17_x86_64.manylinux2014_x86_64.whl.metadata (11 kB)\n",
      "Collecting contourpy>=1.0.1 (from matplotlib)\n",
      "  Obtaining dependency information for contourpy>=1.0.1 from https://files.pythonhosted.org/packages/05/11/57335544a3027e9b96a05948c32e566328e3a2f84b7b99a325b7a06d2b06/contourpy-1.3.0-cp39-cp39-manylinux_2_17_x86_64.manylinux2014_x86_64.whl.metadata\n",
      "  Downloading contourpy-1.3.0-cp39-cp39-manylinux_2_17_x86_64.manylinux2014_x86_64.whl.metadata (5.4 kB)\n",
      "Collecting cycler>=0.10 (from matplotlib)\n",
      "  Obtaining dependency information for cycler>=0.10 from https://files.pythonhosted.org/packages/e7/05/c19819d5e3d95294a6f5947fb9b9629efb316b96de511b418c53d245aae6/cycler-0.12.1-py3-none-any.whl.metadata\n",
      "  Downloading cycler-0.12.1-py3-none-any.whl.metadata (3.8 kB)\n",
      "Collecting fonttools>=4.22.0 (from matplotlib)\n",
      "  Obtaining dependency information for fonttools>=4.22.0 from https://files.pythonhosted.org/packages/8c/e7/24870ef7d4014b7904a3b9911199ffe04532d1fb73cf70856471f9f8b252/fonttools-4.54.1-cp39-cp39-manylinux_2_17_x86_64.manylinux2014_x86_64.whl.metadata\n",
      "  Downloading fonttools-4.54.1-cp39-cp39-manylinux_2_17_x86_64.manylinux2014_x86_64.whl.metadata (163 kB)\n",
      "\u001b[2K     \u001b[90m━━━━━━━━━━━━━━━━━━━━━━━━━━━━━━━━━━━━━\u001b[0m \u001b[32m163.7/163.7 kB\u001b[0m \u001b[31m509.1 kB/s\u001b[0m eta \u001b[36m0:00:00\u001b[0ma \u001b[36m0:00:01\u001b[0m\n",
      "\u001b[?25hCollecting kiwisolver>=1.3.1 (from matplotlib)\n",
      "  Obtaining dependency information for kiwisolver>=1.3.1 from https://files.pythonhosted.org/packages/21/b1/40655f6c3fa11ce740e8a964fa8e4c0479c87d6a7944b95af799c7a55dfe/kiwisolver-1.4.7-cp39-cp39-manylinux_2_12_x86_64.manylinux2010_x86_64.whl.metadata\n",
      "  Downloading kiwisolver-1.4.7-cp39-cp39-manylinux_2_12_x86_64.manylinux2010_x86_64.whl.metadata (6.3 kB)\n",
      "Requirement already satisfied: numpy>=1.23 in /srv/conda/envs/notebook/lib/python3.9/site-packages (from matplotlib) (2.0.2)\n",
      "Requirement already satisfied: packaging>=20.0 in /srv/conda/envs/notebook/lib/python3.9/site-packages (from matplotlib) (23.2)\n",
      "Collecting pillow>=8 (from matplotlib)\n",
      "  Obtaining dependency information for pillow>=8 from https://files.pythonhosted.org/packages/36/5d/a9a00f8251ce93144f0250c0f0aece31b83ff33ffc243cdf987a8d584818/pillow-11.0.0-cp39-cp39-manylinux_2_28_x86_64.whl.metadata\n",
      "  Downloading pillow-11.0.0-cp39-cp39-manylinux_2_28_x86_64.whl.metadata (9.1 kB)\n",
      "Collecting pyparsing>=2.3.1 (from matplotlib)\n",
      "  Obtaining dependency information for pyparsing>=2.3.1 from https://files.pythonhosted.org/packages/be/ec/2eb3cd785efd67806c46c13a17339708ddc346cbb684eade7a6e6f79536a/pyparsing-3.2.0-py3-none-any.whl.metadata\n",
      "  Downloading pyparsing-3.2.0-py3-none-any.whl.metadata (5.0 kB)\n",
      "Requirement already satisfied: python-dateutil>=2.7 in /srv/conda/envs/notebook/lib/python3.9/site-packages (from matplotlib) (2.8.2)\n",
      "Requirement already satisfied: importlib-resources>=3.2.0 in /srv/conda/envs/notebook/lib/python3.9/site-packages (from matplotlib) (6.1.0)\n",
      "Requirement already satisfied: zipp>=3.1.0 in /srv/conda/envs/notebook/lib/python3.9/site-packages (from importlib-resources>=3.2.0->matplotlib) (3.17.0)\n",
      "Requirement already satisfied: six>=1.5 in /srv/conda/envs/notebook/lib/python3.9/site-packages (from python-dateutil>=2.7->matplotlib) (1.16.0)\n",
      "Downloading matplotlib-3.9.2-cp39-cp39-manylinux_2_17_x86_64.manylinux2014_x86_64.whl (8.3 MB)\n",
      "\u001b[2K   \u001b[90m━━━━━━━━━━━━━━━━━━━━━━━━━━━━━━━━━━━━━━━━\u001b[0m \u001b[32m8.3/8.3 MB\u001b[0m \u001b[31m3.6 MB/s\u001b[0m eta \u001b[36m0:00:00\u001b[0m00:01\u001b[0m00:01\u001b[0m\n",
      "\u001b[?25hDownloading contourpy-1.3.0-cp39-cp39-manylinux_2_17_x86_64.manylinux2014_x86_64.whl (321 kB)\n",
      "\u001b[2K   \u001b[90m━━━━━━━━━━━━━━━━━━━━━━━━━━━━━━━━━━━━━━━━\u001b[0m \u001b[32m321.9/321.9 kB\u001b[0m \u001b[31m3.0 MB/s\u001b[0m eta \u001b[36m0:00:00\u001b[0ma \u001b[36m0:00:01\u001b[0m\n",
      "\u001b[?25hDownloading cycler-0.12.1-py3-none-any.whl (8.3 kB)\n",
      "Downloading fonttools-4.54.1-cp39-cp39-manylinux_2_17_x86_64.manylinux2014_x86_64.whl (4.6 MB)\n",
      "\u001b[2K   \u001b[90m━━━━━━━━━━━━━━━━━━━━━━━━━━━━━━━━━━━━━━━━\u001b[0m \u001b[32m4.6/4.6 MB\u001b[0m \u001b[31m3.5 MB/s\u001b[0m eta \u001b[36m0:00:00\u001b[0m00:01\u001b[0m00:01\u001b[0m\n",
      "\u001b[?25hDownloading kiwisolver-1.4.7-cp39-cp39-manylinux_2_12_x86_64.manylinux2010_x86_64.whl (1.6 MB)\n",
      "\u001b[2K   \u001b[90m━━━━━━━━━━━━━━━━━━━━━━━━━━━━━━━━━━━━━━━━\u001b[0m \u001b[32m1.6/1.6 MB\u001b[0m \u001b[31m3.5 MB/s\u001b[0m eta \u001b[36m0:00:00\u001b[0ma \u001b[36m0:00:01\u001b[0m\n",
      "\u001b[?25hDownloading pillow-11.0.0-cp39-cp39-manylinux_2_28_x86_64.whl (4.4 MB)\n",
      "\u001b[2K   \u001b[90m━━━━━━━━━━━━━━━━━━━━━━━━━━━━━━━━━━━━━━━━\u001b[0m \u001b[32m4.4/4.4 MB\u001b[0m \u001b[31m3.4 MB/s\u001b[0m eta \u001b[36m0:00:00\u001b[0m00:01\u001b[0m00:01\u001b[0m\n",
      "\u001b[?25hDownloading pyparsing-3.2.0-py3-none-any.whl (106 kB)\n",
      "\u001b[2K   \u001b[90m━━━━━━━━━━━━━━━━━━━━━━━━━━━━━━━━━━━━━━━━\u001b[0m \u001b[32m106.9/106.9 kB\u001b[0m \u001b[31m3.5 MB/s\u001b[0m eta \u001b[36m0:00:00\u001b[0m\n",
      "\u001b[?25hInstalling collected packages: pyparsing, pillow, kiwisolver, fonttools, cycler, contourpy, matplotlib\n",
      "Successfully installed contourpy-1.3.0 cycler-0.12.1 fonttools-4.54.1 kiwisolver-1.4.7 matplotlib-3.9.2 pillow-11.0.0 pyparsing-3.2.0\n"
     ]
    }
   ],
   "source": [
    "\"\"\"Imports and global variables\"\"\"\n",
    "!pip install numpy\n",
    "!pip install matplotlib\n",
    "!pip install numba\n",
    "!pip install tqdm"
   ]
  },
  {
   "cell_type": "code",
   "execution_count": 5,
   "metadata": {
    "tags": []
   },
   "outputs": [],
   "source": [
    "import numpy as np\n",
    "import matplotlib.pyplot as plt\n",
    "from numba import jit\n",
    "from tqdm.notebook import tqdm\n",
    "import time"
   ]
  },
  {
   "cell_type": "markdown",
   "metadata": {},
   "source": [
    "### Main functions\n",
    "\n"
   ]
  },
  {
   "cell_type": "code",
   "execution_count": 23,
   "metadata": {
    "tags": []
   },
   "outputs": [],
   "source": [
    "def init_state(L):\n",
    "    \"\"\"Initialized spin grid\"\"\"\n",
    "    grid = np.random.choice([-1,1],size=(L,L))\n",
    "    return grid\n",
    "\n",
    "@jit(nopython=True, cache=True)\n",
    "def cal_energy(grid, L):\n",
    "    \"\"\"Compute energy of new configuration\"\"\"\n",
    "    en = 0\n",
    "    for i in np.arange(L):\n",
    "        for j in np.arange(L):\n",
    "            s = grid[i, j]\n",
    "            neighbor_s = grid[(i + 1) % L, j] + \\\n",
    "                         grid[(i - 1) % L, j] + \\\n",
    "                         grid[i, (j + 1) % L] + \\\n",
    "                         grid[i, (j - 1) % L]\n",
    "            en -= s * neighbor_s # we take J = 1.0\n",
    "    return en / 2  # this 2 coming from the double counting of the i,j pairs\n",
    "\n",
    "@jit(nopython=True, cache=True)\n",
    "def mc_update(grid, beta, L):\n",
    "    \"\"\"Updating step using the MH algorithm\"\"\"\n",
    "    for _ in np.arange(L * L):\n",
    "        # Select a center with probability 1/L^2\n",
    "        i = np.random.randint(0, L)\n",
    "        j = np.random.randint(0, L)\n",
    "        \n",
    "        # Get the spin value from selected center\n",
    "        s = grid[i,j]\n",
    "        \n",
    "        # Periodic boundary conditions (4 neighbors)\n",
    "        neighbor_s = grid[(i + 1) % L, j] + \\\n",
    "                     grid[(i - 1) % L, j] + \\\n",
    "                     grid[i, (j + 1) % L] + \\\n",
    "                     grid[i, (j - 1) % L]\n",
    "        \n",
    "        # Change in energy\n",
    "        dE = 2 * s * neighbor_s  # this 2 coming from the flip of a given s, e.g. from -1/2 to 1/2, the energy change is the double of the s * neighbor_s\n",
    "\n",
    "        # TODO: Apply acceptance criterion and update grid\n",
    "    \n",
    "    return grid\n"
   ]
  },
  {
   "cell_type": "markdown",
   "metadata": {},
   "source": [
    "### Set numerical experiment conditions\n",
    "\n"
   ]
  },
  {
   "cell_type": "markdown",
   "metadata": {},
   "source": [
    "These are the input parameters of the simulation, they can be tuned in order to speed up or refine the results.\n",
    "For convenience reasons, the temperature will be given in units of $[k_B/J]\\cdot K$.\n",
    "\n"
   ]
  },
  {
   "cell_type": "code",
   "execution_count": 24,
   "metadata": {
    "tags": []
   },
   "outputs": [],
   "source": [
    "# Parameter initialization\n",
    "Ntemp = 50\n",
    "temp = np.linspace(1.5, 3.25, Ntemp)\n",
    "length = 10\n",
    "Nsteps = 10000\n",
    "\n",
    "# Variables initialization\n",
    "energy = np.zeros(Ntemp)"
   ]
  },
  {
   "cell_type": "markdown",
   "metadata": {},
   "source": [
    "### Run the simulation and compute expectation value\n",
    "\n"
   ]
  },
  {
   "cell_type": "code",
   "execution_count": 25,
   "metadata": {},
   "outputs": [
    {
     "data": {
      "application/vnd.jupyter.widget-view+json": {
       "model_id": "06c4232114f241bd86e30de2028ae7b8",
       "version_major": 2,
       "version_minor": 0
      },
      "text/plain": [
       "  0%|          | 0/50 [00:00<?, ?it/s]"
      ]
     },
     "metadata": {},
     "output_type": "display_data"
    },
    {
     "name": "stdout",
     "output_type": "stream",
     "text": [
      "It took 0.09 minutes to run the code.\n"
     ]
    }
   ],
   "source": [
    "start = time.time()\n",
    "for tdx, tval in enumerate(tqdm(temp)):\n",
    "    # Compute beta factor\n",
    "    beta = 1 / tval\n",
    "\n",
    "    # Initial grid\n",
    "    grid = init_state(length)\n",
    "\n",
    "    # Run Monte Carlo steps\n",
    "    ent = 0\n",
    "    for _ in range(Nsteps):\n",
    "        # TODO finish the looping code\n",
    "\n",
    "    # Set energy value\n",
    "    energy[tdx] = ent / (Nsteps * length**2)\n",
    "end = time.time()\n",
    "run_time = (end - start) / 60\n",
    "print(f'It took {run_time:.2f} minutes to run the code.')"
   ]
  },
  {
   "cell_type": "markdown",
   "metadata": {},
   "source": [
    "### Find critical temperature\n",
    "\n"
   ]
  },
  {
   "cell_type": "code",
   "execution_count": 26,
   "metadata": {
    "scrolled": true
   },
   "outputs": [
    {
     "data": {
      "image/png": "[encoded data removed]",
      "text/plain": [
       "<Figure size 640x480 with 1 Axes>"
      ]
     },
     "metadata": {},
     "output_type": "display_data"
    }
   ],
   "source": [
    "# PLot curve\n",
    "plt.plot(temp, energy, 'o-')\n",
    "\n",
    "# Inflection point\n",
    "# TODO\n",
    "\n",
    "# Show\n",
    "plt.show()"
   ]
  },
  {
   "cell_type": "markdown",
   "metadata": {},
   "source": [
    "### Questions:\n",
    "\n"
   ]
  },
  {
   "cell_type": "markdown",
   "metadata": {},
   "source": [
    "1.  Complete all missing code sections, Chatgpt could be a good tool assisting coding.\n",
    "2.  Plot the energy temperature curve.\n",
    "3.  Which are the units of the energy and temperature on the plot?\n",
    "4.  What is the value of the critical temperature? Compare with the [analytical](https://en.wikipedia.org/wiki/Square_lattice_Ising_model#Critical_temperature) value.\n",
    "\n"
   ]
  },
  {
   "cell_type": "code",
   "execution_count": null,
   "metadata": {},
   "outputs": [],
   "source": []
  }
 ],
 "metadata": {
  "kernelspec": {
   "display_name": "Python 3 (ipykernel)",
   "language": "python",
   "name": "python3"
  },
  "language_info": {
   "codemirror_mode": {
    "name": "ipython",
    "version": 3
   },
   "file_extension": ".py",
   "mimetype": "text/x-python",
   "name": "python",
   "nbconvert_exporter": "python",
   "pygments_lexer": "ipython3",
   "version": "3.9.19"
  },
  "org": null
 },
 "nbformat": 4,
 "nbformat_minor": 4
}
