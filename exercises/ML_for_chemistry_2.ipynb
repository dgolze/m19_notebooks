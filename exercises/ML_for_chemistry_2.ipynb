{
 "cells": [
  {
   "cell_type": "markdown",
   "metadata": {
    "id": "G7JaVS8UQaBC"
   },
   "source": [
    "# Machine learning for chemistry 2\n",
    "\n",
    "The purpose of this exercise is to learn to use neural networks for regression.\n",
    "\n",
    "The exercise is about investigating the data set and testing basic properties of a simple neural network.\n",
    "We will use multilayer perceptrons of various complexities throughout this exercise.\n",
    "\n",
    "This exercise is based on NOMAD multilayer perceptron tutorial [1] and Tutorial from Patrick Rinke's course material at Aalto University. The data is from [2].\n",
    "\n",
    "[1] NOMAD, AI Toolkit tutorials, https://nomad-lab.eu/prod/rae/gui/aitoolkit/tutorials?expanded=introduction_to_multilayer_perceptrons__deep_neural_networks_ (accessed 2.10.2022)\n",
    "\n",
    "[2] D. Jha, L. Ward, A. Paul, W.-k. Liao, A. Choudhary, C. Wolverton and A. Agrawal. Elemnet: Deep learning the chemistry of materials from only elemental composition. Scientific reports 8, 1 (2018)"
   ]
  },
  {
   "cell_type": "markdown",
   "metadata": {
    "id": "GayzIY3vgxdw"
   },
   "source": [
    "## 1: Testing properties of neural networks"
   ]
  },
  {
   "cell_type": "markdown",
   "metadata": {
    "id": "l2bfuJWkhCLW"
   },
   "source": [
    "Let's start by importing the relevant packages."
   ]
  },
  {
   "cell_type": "code",
   "execution_count": 1,
   "metadata": {},
   "outputs": [
    {
     "name": "stdout",
     "output_type": "stream",
     "text": [
      "Requirement already satisfied: tensorflow in /home/qliu/Software/anaconda3/envs/tensorflow/lib/python3.10/site-packages (2.10.0)\n",
      "Requirement already satisfied: termcolor>=1.1.0 in /home/qliu/Software/anaconda3/envs/tensorflow/lib/python3.10/site-packages (from tensorflow) (2.1.0)\n",
      "Requirement already satisfied: six>=1.12.0 in /home/qliu/Software/anaconda3/envs/tensorflow/lib/python3.10/site-packages (from tensorflow) (1.16.0)\n",
      "Requirement already satisfied: opt-einsum>=2.3.2 in /home/qliu/Software/anaconda3/envs/tensorflow/lib/python3.10/site-packages (from tensorflow) (3.3.0)\n",
      "Requirement already satisfied: numpy>=1.20 in /home/qliu/Software/anaconda3/envs/tensorflow/lib/python3.10/site-packages (from tensorflow) (1.23.3)\n",
      "Requirement already satisfied: tensorboard<2.11,>=2.10 in /home/qliu/Software/anaconda3/envs/tensorflow/lib/python3.10/site-packages (from tensorflow) (2.10.0)\n",
      "Requirement already satisfied: flatbuffers>=2.0 in /home/qliu/Software/anaconda3/envs/tensorflow/lib/python3.10/site-packages (from tensorflow) (2.0)\n",
      "Requirement already satisfied: packaging in /home/qliu/Software/anaconda3/envs/tensorflow/lib/python3.10/site-packages (from tensorflow) (21.3)\n",
      "Collecting tensorflow-io-gcs-filesystem>=0.23.1\n",
      "  Downloading tensorflow_io_gcs_filesystem-0.27.0-cp310-cp310-manylinux_2_12_x86_64.manylinux2010_x86_64.whl (2.4 MB)\n",
      "\u001b[2K     \u001b[38;2;114;156;31m━━━━━━━━━━━━━━━━━━━━━━━━━━━━━━━━━━━━━━━━\u001b[0m \u001b[32m2.4/2.4 MB\u001b[0m \u001b[31m6.5 MB/s\u001b[0m eta \u001b[36m0:00:00\u001b[0mm eta \u001b[36m0:00:01\u001b[0m0:01\u001b[0m:01\u001b[0m\n",
      "\u001b[?25hCollecting protobuf<3.20,>=3.9.2\n",
      "  Downloading protobuf-3.19.6-cp310-cp310-manylinux_2_17_x86_64.manylinux2014_x86_64.whl (1.1 MB)\n",
      "\u001b[2K     \u001b[38;2;114;156;31m━━━━━━━━━━━━━━━━━━━━━━━━━━━━━━━━━━━━━━━━\u001b[0m \u001b[32m1.1/1.1 MB\u001b[0m \u001b[31m6.3 MB/s\u001b[0m eta \u001b[36m0:00:00\u001b[0m[31m7.2 MB/s\u001b[0m eta \u001b[36m0:00:01\u001b[0m\n",
      "\u001b[?25hRequirement already satisfied: gast<=0.4.0,>=0.2.1 in /home/qliu/Software/anaconda3/envs/tensorflow/lib/python3.10/site-packages (from tensorflow) (0.4.0)\n",
      "Collecting libclang>=13.0.0\n",
      "  Using cached libclang-14.0.6-py2.py3-none-manylinux2010_x86_64.whl (14.1 MB)\n",
      "Requirement already satisfied: h5py>=2.9.0 in /home/qliu/Software/anaconda3/envs/tensorflow/lib/python3.10/site-packages (from tensorflow) (3.7.0)\n",
      "Requirement already satisfied: typing-extensions>=3.6.6 in /home/qliu/Software/anaconda3/envs/tensorflow/lib/python3.10/site-packages (from tensorflow) (4.3.0)\n",
      "Requirement already satisfied: setuptools in /home/qliu/Software/anaconda3/envs/tensorflow/lib/python3.10/site-packages (from tensorflow) (65.5.0)\n",
      "Requirement already satisfied: google-pasta>=0.1.1 in /home/qliu/Software/anaconda3/envs/tensorflow/lib/python3.10/site-packages (from tensorflow) (0.2.0)\n",
      "Requirement already satisfied: astunparse>=1.6.0 in /home/qliu/Software/anaconda3/envs/tensorflow/lib/python3.10/site-packages (from tensorflow) (1.6.3)\n",
      "Requirement already satisfied: tensorflow-estimator<2.11,>=2.10.0 in /home/qliu/Software/anaconda3/envs/tensorflow/lib/python3.10/site-packages (from tensorflow) (2.10.0)\n",
      "Requirement already satisfied: absl-py>=1.0.0 in /home/qliu/Software/anaconda3/envs/tensorflow/lib/python3.10/site-packages (from tensorflow) (1.3.0)\n",
      "Requirement already satisfied: grpcio<2.0,>=1.24.3 in /home/qliu/Software/anaconda3/envs/tensorflow/lib/python3.10/site-packages (from tensorflow) (1.42.0)\n",
      "Requirement already satisfied: keras<2.11,>=2.10.0 in /home/qliu/Software/anaconda3/envs/tensorflow/lib/python3.10/site-packages (from tensorflow) (2.10.0)\n",
      "Requirement already satisfied: wrapt>=1.11.0 in /home/qliu/Software/anaconda3/envs/tensorflow/lib/python3.10/site-packages (from tensorflow) (1.14.1)\n",
      "Requirement already satisfied: keras-preprocessing>=1.1.1 in /home/qliu/Software/anaconda3/envs/tensorflow/lib/python3.10/site-packages (from tensorflow) (1.1.2)\n",
      "Requirement already satisfied: wheel<1.0,>=0.23.0 in /home/qliu/Software/anaconda3/envs/tensorflow/lib/python3.10/site-packages (from astunparse>=1.6.0->tensorflow) (0.37.1)\n",
      "Requirement already satisfied: requests<3,>=2.21.0 in /home/qliu/Software/anaconda3/envs/tensorflow/lib/python3.10/site-packages (from tensorboard<2.11,>=2.10->tensorflow) (2.28.1)\n",
      "Requirement already satisfied: google-auth<3,>=1.6.3 in /home/qliu/Software/anaconda3/envs/tensorflow/lib/python3.10/site-packages (from tensorboard<2.11,>=2.10->tensorflow) (2.6.0)\n",
      "Requirement already satisfied: google-auth-oauthlib<0.5,>=0.4.1 in /home/qliu/Software/anaconda3/envs/tensorflow/lib/python3.10/site-packages (from tensorboard<2.11,>=2.10->tensorflow) (0.4.4)\n",
      "Requirement already satisfied: markdown>=2.6.8 in /home/qliu/Software/anaconda3/envs/tensorflow/lib/python3.10/site-packages (from tensorboard<2.11,>=2.10->tensorflow) (3.3.4)\n",
      "Requirement already satisfied: tensorboard-plugin-wit>=1.6.0 in /home/qliu/Software/anaconda3/envs/tensorflow/lib/python3.10/site-packages (from tensorboard<2.11,>=2.10->tensorflow) (1.8.1)\n",
      "Requirement already satisfied: werkzeug>=1.0.1 in /home/qliu/Software/anaconda3/envs/tensorflow/lib/python3.10/site-packages (from tensorboard<2.11,>=2.10->tensorflow) (2.0.3)\n",
      "Requirement already satisfied: tensorboard-data-server<0.7.0,>=0.6.0 in /home/qliu/Software/anaconda3/envs/tensorflow/lib/python3.10/site-packages (from tensorboard<2.11,>=2.10->tensorflow) (0.6.0)\n",
      "Requirement already satisfied: pyparsing!=3.0.5,>=2.0.2 in /home/qliu/Software/anaconda3/envs/tensorflow/lib/python3.10/site-packages (from packaging->tensorflow) (3.0.9)\n",
      "Requirement already satisfied: cachetools<6.0,>=2.0.0 in /home/qliu/Software/anaconda3/envs/tensorflow/lib/python3.10/site-packages (from google-auth<3,>=1.6.3->tensorboard<2.11,>=2.10->tensorflow) (4.2.2)\n",
      "Requirement already satisfied: rsa<5,>=3.1.4 in /home/qliu/Software/anaconda3/envs/tensorflow/lib/python3.10/site-packages (from google-auth<3,>=1.6.3->tensorboard<2.11,>=2.10->tensorflow) (4.7.2)\n",
      "Requirement already satisfied: pyasn1-modules>=0.2.1 in /home/qliu/Software/anaconda3/envs/tensorflow/lib/python3.10/site-packages (from google-auth<3,>=1.6.3->tensorboard<2.11,>=2.10->tensorflow) (0.2.8)\n",
      "Requirement already satisfied: requests-oauthlib>=0.7.0 in /home/qliu/Software/anaconda3/envs/tensorflow/lib/python3.10/site-packages (from google-auth-oauthlib<0.5,>=0.4.1->tensorboard<2.11,>=2.10->tensorflow) (1.3.0)\n",
      "Requirement already satisfied: charset-normalizer<3,>=2 in /home/qliu/Software/anaconda3/envs/tensorflow/lib/python3.10/site-packages (from requests<3,>=2.21.0->tensorboard<2.11,>=2.10->tensorflow) (2.0.4)\n",
      "Requirement already satisfied: idna<4,>=2.5 in /home/qliu/Software/anaconda3/envs/tensorflow/lib/python3.10/site-packages (from requests<3,>=2.21.0->tensorboard<2.11,>=2.10->tensorflow) (3.4)\n",
      "Requirement already satisfied: certifi>=2017.4.17 in /home/qliu/Software/anaconda3/envs/tensorflow/lib/python3.10/site-packages (from requests<3,>=2.21.0->tensorboard<2.11,>=2.10->tensorflow) (2022.9.24)\n",
      "Requirement already satisfied: urllib3<1.27,>=1.21.1 in /home/qliu/Software/anaconda3/envs/tensorflow/lib/python3.10/site-packages (from requests<3,>=2.21.0->tensorboard<2.11,>=2.10->tensorflow) (1.26.12)\n",
      "Requirement already satisfied: pyasn1<0.5.0,>=0.4.6 in /home/qliu/Software/anaconda3/envs/tensorflow/lib/python3.10/site-packages (from pyasn1-modules>=0.2.1->google-auth<3,>=1.6.3->tensorboard<2.11,>=2.10->tensorflow) (0.4.8)\n",
      "Requirement already satisfied: oauthlib>=3.0.0 in /home/qliu/Software/anaconda3/envs/tensorflow/lib/python3.10/site-packages (from requests-oauthlib>=0.7.0->google-auth-oauthlib<0.5,>=0.4.1->tensorboard<2.11,>=2.10->tensorflow) (3.2.1)\n",
      "Installing collected packages: libclang, tensorflow-io-gcs-filesystem, protobuf\n",
      "  Attempting uninstall: protobuf\n",
      "    Found existing installation: protobuf 3.20.1\n",
      "    Uninstalling protobuf-3.20.1:\n",
      "      Successfully uninstalled protobuf-3.20.1\n",
      "Successfully installed libclang-14.0.6 protobuf-3.19.6 tensorflow-io-gcs-filesystem-0.27.0\n",
      "Requirement already satisfied: keras in /home/qliu/Software/anaconda3/envs/tensorflow/lib/python3.10/site-packages (2.10.0)\n",
      "Requirement already satisfied: scikit-learn in /home/qliu/Software/anaconda3/envs/tensorflow/lib/python3.10/site-packages (1.1.3)\n",
      "Requirement already satisfied: joblib>=1.0.0 in /home/qliu/Software/anaconda3/envs/tensorflow/lib/python3.10/site-packages (from scikit-learn) (1.1.1)\n",
      "Requirement already satisfied: scipy>=1.3.2 in /home/qliu/Software/anaconda3/envs/tensorflow/lib/python3.10/site-packages (from scikit-learn) (1.9.3)\n",
      "Requirement already satisfied: numpy>=1.17.3 in /home/qliu/Software/anaconda3/envs/tensorflow/lib/python3.10/site-packages (from scikit-learn) (1.23.3)\n",
      "Requirement already satisfied: threadpoolctl>=2.0.0 in /home/qliu/Software/anaconda3/envs/tensorflow/lib/python3.10/site-packages (from scikit-learn) (2.2.0)\n"
     ]
    }
   ],
   "source": [
	"!pip install -U --pre tensorflow=="2.*"\n"
    "!pip install keras\n",
    "!pip install scikit-learn\n",
    "!pip install pandas\n",
    "!pip install seaborn"
   ]
  },
  {
   "cell_type": "code",
   "execution_count": 1,
   "metadata": {
    "colab": {
     "base_uri": "https://localhost:8080/",
     "height": 1000
    },
    "id": "rAhn444VhJky",
    "outputId": "33650411-b851-4424-b6fb-eeb7577bcc03"
   },
   "outputs": [
    {
     "name": "stderr",
     "output_type": "stream",
     "text": [
      "2022-11-13 18:46:26.039654: I tensorflow/core/platform/cpu_feature_guard.cc:193] This TensorFlow binary is optimized with oneAPI Deep Neural Network Library (oneDNN) to use the following CPU instructions in performance-critical operations:  SSE4.1 SSE4.2 AVX AVX2 FMA\n",
      "To enable them in other operations, rebuild TensorFlow with the appropriate compiler flags.\n"
     ]
    },
    {
     "name": "stdout",
     "output_type": "stream",
     "text": [
      "Collecting git+https://github.com/lmmentel/mendeleev.git\n",
      "  Cloning https://github.com/lmmentel/mendeleev.git to /tmp/pip-req-build-ls3fmg7x\n",
      "  Running command git clone --filter=blob:none --quiet https://github.com/lmmentel/mendeleev.git /tmp/pip-req-build-ls3fmg7x\n",
      "  Resolved https://github.com/lmmentel/mendeleev.git to commit be16202b1ff53bbf524e764948e4b68d57559ba2\n",
      "  Installing build dependencies ... \u001b[?25ldone\n",
      "\u001b[?25h  Getting requirements to build wheel ... \u001b[?25ldone\n",
      "\u001b[?25h  Preparing metadata (pyproject.toml) ... \u001b[?25ldone\n",
      "\u001b[?25hRequirement already satisfied: numpy<2.0,>=1.21 in /home/qliu/Software/anaconda3/envs/tensorflow/lib/python3.10/site-packages (from mendeleev==0.12.0) (1.23.3)\n",
      "Collecting SQLAlchemy<2.0.0,>=1.4.0\n",
      "  Downloading SQLAlchemy-1.4.44-cp310-cp310-manylinux_2_5_x86_64.manylinux1_x86_64.manylinux_2_17_x86_64.manylinux2014_x86_64.whl (1.6 MB)\n",
      "\u001b[2K     \u001b[38;2;114;156;31m━━━━━━━━━━━━━━━━━━━━━━━━━━━━━━━━━━━━━━━━\u001b[0m \u001b[32m1.6/1.6 MB\u001b[0m \u001b[31m4.3 MB/s\u001b[0m eta \u001b[36m0:00:00\u001b[0m MB/s\u001b[0m eta \u001b[36m0:00:01\u001b[0m:01\u001b[0m\n",
      "\u001b[?25hCollecting colorama<0.5.0,>=0.4.4\n",
      "  Downloading colorama-0.4.6-py2.py3-none-any.whl (25 kB)\n",
      "Requirement already satisfied: pandas>=0.25.0 in /home/qliu/Software/anaconda3/envs/tensorflow/lib/python3.10/site-packages (from mendeleev==0.12.0) (1.4.4)\n",
      "Collecting pyfiglet<0.9,>=0.8.post1\n",
      "  Using cached pyfiglet-0.8.post1-py2.py3-none-any.whl (865 kB)\n",
      "Requirement already satisfied: Pygments<3.0.0,>=2.8.0 in /home/qliu/Software/anaconda3/envs/tensorflow/lib/python3.10/site-packages (from mendeleev==0.12.0) (2.11.2)\n",
      "Requirement already satisfied: six<2.0.0,>=1.15.0 in /home/qliu/Software/anaconda3/envs/tensorflow/lib/python3.10/site-packages (from mendeleev==0.12.0) (1.16.0)\n",
      "Requirement already satisfied: python-dateutil>=2.8.1 in /home/qliu/Software/anaconda3/envs/tensorflow/lib/python3.10/site-packages (from pandas>=0.25.0->mendeleev==0.12.0) (2.8.2)\n",
      "Requirement already satisfied: pytz>=2020.1 in /home/qliu/Software/anaconda3/envs/tensorflow/lib/python3.10/site-packages (from pandas>=0.25.0->mendeleev==0.12.0) (2022.1)\n",
      "Collecting greenlet!=0.4.17\n",
      "  Downloading greenlet-2.0.1-cp310-cp310-manylinux_2_17_x86_64.manylinux2014_x86_64.whl (539 kB)\n",
      "\u001b[2K     \u001b[38;2;114;156;31m━━━━━━━━━━━━━━━━━━━━━━━━━━━━━━━━━━━━━━━\u001b[0m \u001b[32m539.9/539.9 kB\u001b[0m \u001b[31m5.2 MB/s\u001b[0m eta \u001b[36m0:00:00\u001b[0m MB/s\u001b[0m eta \u001b[36m0:00:01\u001b[0m:01\u001b[0m\n",
      "\u001b[?25hBuilding wheels for collected packages: mendeleev\n",
      "  Building wheel for mendeleev (pyproject.toml) ... \u001b[?25ldone\n",
      "\u001b[?25h  Created wheel for mendeleev: filename=mendeleev-0.12.0-py3-none-any.whl size=351990 sha256=e6a514cec576f83dc793233e0b9d7681655813e7bc33bf7260e8d7e6b568eaa8\n",
      "  Stored in directory: /tmp/pip-ephem-wheel-cache-0t3ydlnp/wheels/28/97/4d/d9fdba99b8d08a4032b90128eb21516e0660627eaf71a2529c\n",
      "Successfully built mendeleev\n",
      "Installing collected packages: pyfiglet, greenlet, colorama, SQLAlchemy, mendeleev\n",
      "Successfully installed SQLAlchemy-1.4.44 colorama-0.4.6 greenlet-2.0.1 mendeleev-0.12.0 pyfiglet-0.8.post1\n"
     ]
    }
   ],
   "source": [
    "import matplotlib.pyplot as plt\n",
    "\n",
    "# Tensorflow as backend for keras (see below)\n",
    "import tensorflow as tf\n",
    "\n",
    "# Keras for neural networks\n",
    "from keras.models import load_model\n",
    "from keras.layers import Input, Dense, Dropout\n",
    "from keras.models import Model, load_model\n",
    "from keras.callbacks import EarlyStopping\n",
    "\n",
    "# other packages\n",
    "import os\n",
    "import numpy as np\n",
    "from collections import Counter\n",
    "\n",
    "# sklearn\n",
    "from sklearn.metrics import r2_score, mean_absolute_error, mean_absolute_percentage_error\n",
    "from sklearn.model_selection import KFold\n",
    "from sklearn.model_selection import train_test_split\n",
    "from sklearn.preprocessing import StandardScaler\n",
    "\n",
    "# pandas\n",
    "import pandas as pd\n",
    "\n",
    "# json\n",
    "import json\n",
    "\n",
    "# mendeleev\n",
    "!pip install git+https://github.com/lmmentel/mendeleev.git\n",
    "from mendeleev import element as Element"
   ]
  },
  {
   "cell_type": "markdown",
   "metadata": {
    "id": "M5ihEZipjaiS"
   },
   "source": [
    "Next, we define a data loader for the data. Run the cell below."
   ]
  },
  {
   "cell_type": "code",
   "execution_count": 2,
   "metadata": {
    "id": "ujJF8dG9jkbL"
   },
   "outputs": [],
   "source": [
    "def zenodo_data_loader():\n",
    "  !wget https://zenodo.org/record/7129315/files/OQMD_Ward_et_al_2016_df.pkl\n",
    "  !wget https://zenodo.org/record/7129315/files/X_ElemNet_NOMAD.npy\n",
    "  !wget https://zenodo.org/record/7139617/files/nn_regression.zip\n",
    "  !unzip nn_regression.zip\n",
    "  \n",
    "\n",
    "def data_loader():\n",
    "\n",
    "  zenodo_data_loader()\n",
    "\n",
    "  df = pd.read_pickle('OQMD_Ward_et_al_2016_df.pkl')\n",
    "  \n",
    "  y_vol_per_atom = df['vol_per_atom'].values\n",
    "\n",
    "  x = np.load('X_ElemNet_NOMAD.npy')\n",
    "\n",
    "\n",
    "  return y_vol_per_atom, x, df"
   ]
  },
  {
   "cell_type": "markdown",
   "metadata": {
    "id": "WZEpG9RijlGG"
   },
   "source": [
    "Let's load the source data. This will take a while. These are pre-generated binary data files and we will them what they are in the next step."
   ]
  },
  {
   "cell_type": "code",
   "execution_count": 3,
   "metadata": {
    "colab": {
     "base_uri": "https://localhost:8080/"
    },
    "id": "tJ-vLKghjo4Z",
    "outputId": "f1b2285b-6876-4909-c6c6-ce1995c05de8"
   },
   "outputs": [
    {
     "name": "stdout",
     "output_type": "stream",
     "text": [
      "--2022-11-13 18:46:53--  https://zenodo.org/record/7129315/files/OQMD_Ward_et_al_2016_df.pkl\n",
      "Resolving zenodo.org (zenodo.org)... 188.184.117.155\n",
      "Connecting to zenodo.org (zenodo.org)|188.184.117.155|:443... connected.\n",
      "HTTP request sent, awaiting response... 200 OK\n",
      "Length: 17335181 (17M) [application/octet-stream]\n",
      "Saving to: ‘OQMD_Ward_et_al_2016_df.pkl’\n",
      "\n",
      "OQMD_Ward_et_al_201 100%[===================>]  16.53M  6.76MB/s    in 2.4s    \n",
      "\n",
      "2022-11-13 18:46:57 (6.76 MB/s) - ‘OQMD_Ward_et_al_2016_df.pkl’ saved [17335181/17335181]\n",
      "\n",
      "--2022-11-13 18:46:57--  https://zenodo.org/record/7129315/files/X_ElemNet_NOMAD.npy\n",
      "Resolving zenodo.org (zenodo.org)... 188.184.117.155\n",
      "Connecting to zenodo.org (zenodo.org)|188.184.117.155|:443... connected.\n",
      "HTTP request sent, awaiting response... 200 OK\n",
      "Length: 247225752 (236M) [application/octet-stream]\n",
      "Saving to: ‘X_ElemNet_NOMAD.npy’\n",
      "\n",
      "X_ElemNet_NOMAD.npy 100%[===================>] 235.77M  6.71MB/s    in 37s     \n",
      "\n",
      "2022-11-13 18:47:35 (6.45 MB/s) - ‘X_ElemNet_NOMAD.npy’ saved [247225752/247225752]\n",
      "\n",
      "--2022-11-13 18:47:35--  https://zenodo.org/record/7139617/files/nn_regression.zip\n",
      "Resolving zenodo.org (zenodo.org)... 188.184.117.155\n",
      "Connecting to zenodo.org (zenodo.org)|188.184.117.155|:443... connected.\n",
      "HTTP request sent, awaiting response... 200 OK\n",
      "Length: 1928044 (1.8M) [application/octet-stream]\n",
      "Saving to: ‘nn_regression.zip’\n",
      "\n",
      "nn_regression.zip   100%[===================>]   1.84M  1.77MB/s    in 1.0s    \n",
      "\n",
      "2022-11-13 18:47:37 (1.77 MB/s) - ‘nn_regression.zip’ saved [1928044/1928044]\n",
      "\n",
      "Archive:  nn_regression.zip\n",
      "   creating: nn_regression/\n",
      "  inflating: nn_regression/new_history.json  \n",
      "  inflating: nn_regression/new_model.h5  \n"
     ]
    }
   ],
   "source": [
    "y_vol_per_atom, x, df = data_loader()"
   ]
  },
  {
   "cell_type": "markdown",
   "metadata": {
    "id": "bt388s1Hh0aA"
   },
   "source": [
    "## Getting to know the data\n",
    "\n",
    "We want to predict the volume per atom for an inorganic solids dataset (retrieved from the open quantum materials database, OQMD) using information on the chemical composition as the input for the model.\n",
    "\n",
    "First let's check the composion of elements from the dataset we loaded in the previous step."
   ]
  },
  {
   "cell_type": "code",
   "execution_count": 4,
   "metadata": {
    "colab": {
     "base_uri": "https://localhost:8080/",
     "height": 624
    },
    "id": "schV0Aagpy0G",
    "outputId": "79dc0599-fa8d-433e-8a25-c3aca8c2e8f1"
   },
   "outputs": [
    {
     "name": "stdout",
     "output_type": "stream",
     "text": [
      "Number of samples 347227\n"
     ]
    },
    {
     "data": {
      "image/png": "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\n",
      "text/plain": [
       "<Figure size 2500x1000 with 1 Axes>"
      ]
     },
     "metadata": {},
     "output_type": "display_data"
    }
   ],
   "source": [
    "print('Number of samples', df.shape[0])\n",
    "number_of_elements = df['number_of_elements'].values\n",
    "stoichiometry_dicts = df['stoichiometry_dicts']\n",
    "\n",
    "elements_of_interest = []\n",
    "for stoichiometry_dict in stoichiometry_dicts:\n",
    "    for species in stoichiometry_dict:\n",
    "        elements_of_interest.append(species)\n",
    "\n",
    "# Order elements according to Z\n",
    "elements_of_interest_unique = np.array(list(set(elements_of_interest)), dtype=object)\n",
    "\n",
    "Z_values = []\n",
    "for element in elements_of_interest_unique:\n",
    "    Z_values.append(Element(element).atomic_number)\n",
    "sorted_indices = np.argsort(Z_values)\n",
    "elements_of_interest_sorted = elements_of_interest_unique[sorted_indices]\n",
    "\n",
    "elements_appearance = dict(Counter(elements_of_interest))\n",
    "elements_appearance_sorted = [elements_appearance[_] for _ in elements_of_interest_sorted]\n",
    "\n",
    "fig = plt.figure(figsize=(25,10))\n",
    "plt.bar(elements_of_interest_sorted, elements_appearance_sorted, width=.2, color='g')\n",
    "plt.xlabel('Elements appearing in the dataset')\n",
    "plt.ylabel('Counts')\n",
    "plt.show()"
   ]
  },
  {
   "cell_type": "markdown",
   "metadata": {
    "id": "j-NefGkbslDe"
   },
   "source": [
    "With 347227 the number of samples is quite high! Furthermore the input data is quite diverse with various different elements appearing in it. Neural Networks are especially suited for the treatment of such large complicated data sets.\n",
    "\n",
    "Let's have a look on our neural network input data (that is in a numpy array 'x'). Print also the shape of the array."
   ]
  },
  {
   "cell_type": "code",
   "execution_count": 5,
   "metadata": {
    "colab": {
     "base_uri": "https://localhost:8080/"
    },
    "id": "BVsfRJBgQPhD",
    "outputId": "dd7406f7-65ad-4376-be1e-da74c3b76c13"
   },
   "outputs": [
    {
     "name": "stdout",
     "output_type": "stream",
     "text": [
      "(347227, 89) [[0.         0.         1.         ... 0.         0.         0.        ]\n",
      " [0.         0.         0.         ... 0.         0.         0.        ]\n",
      " [0.         0.         0.         ... 0.         0.         0.        ]\n",
      " ...\n",
      " [0.         0.         0.         ... 0.         0.         0.        ]\n",
      " [0.         0.         0.11111111 ... 0.         0.         0.        ]\n",
      " [0.         0.         0.         ... 0.         0.         0.        ]]\n"
     ]
    }
   ],
   "source": [
    "# Print out the array and its shape:\n",
    "print(x.shape, x)"
   ]
  },
  {
   "cell_type": "markdown",
   "metadata": {
    "id": "qaEp-7mpQXVJ"
   },
   "source": [
    "This is information on the elemental composition of the material in a preformatted form, that's why it is so sparse."
   ]
  },
  {
   "cell_type": "markdown",
   "metadata": {
    "id": "G8Tsoft4tfFX"
   },
   "source": [
    "Let's look at the target property, which we want to train the neural network to predict."
   ]
  },
  {
   "cell_type": "code",
   "execution_count": 6,
   "metadata": {
    "colab": {
     "base_uri": "https://localhost:8080/",
     "height": 489
    },
    "id": "dEYgT1HmthVg",
    "outputId": "b5424389-49eb-4312-a08e-ae054d12231b"
   },
   "outputs": [
    {
     "data": {
      "image/png": "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\n",
      "text/plain": [
       "<Figure size 640x480 with 2 Axes>"
      ]
     },
     "metadata": {},
     "output_type": "display_data"
    },
    {
     "name": "stdout",
     "output_type": "stream",
     "text": [
      "\n",
      "Statistics of the target property:\n",
      "\n",
      "count    347227.000000\n",
      "mean         22.157036\n",
      "std           8.613623\n",
      "min           2.723960\n",
      "25%          16.116350\n",
      "50%          20.881500\n",
      "75%          26.504150\n",
      "max          99.884500\n",
      "Name: vol_per_atom, dtype: float64\n"
     ]
    }
   ],
   "source": [
    "df.hist()\n",
    "plt.show()\n",
    "print('\\nStatistics of the target property:\\n')\n",
    "print(df['vol_per_atom'].describe())"
   ]
  },
  {
   "cell_type": "markdown",
   "metadata": {
    "id": "4zwvUdIpTDfz"
   },
   "source": [
    "The y-axis in the above plot describes the number of elements. We can see that most materials have vol_per_atom of around 22. Furthermore, most of the samples consist only of 2 or 3 elements."
   ]
  },
  {
   "cell_type": "markdown",
   "metadata": {
    "id": "2I4_RJX8ufwG"
   },
   "source": [
    "## Implementation of a first simple neural network\n",
    "\n",
    "Next we will first build up a simple model using part of our data set to explain the basics of neural networks. The target is to regress the 'vol_per_atom' as a function of elemental composition of the material 'x'.\n",
    "\n",
    "### Train-test split of the whole data"
   ]
  },
  {
   "cell_type": "code",
   "execution_count": 7,
   "metadata": {
    "colab": {
     "base_uri": "https://localhost:8080/"
    },
    "id": "MRh2rUJBugC-",
    "outputId": "adfb62cd-cba3-42c0-a478-0dbcfa62262b"
   },
   "outputs": [
    {
     "name": "stdout",
     "output_type": "stream",
     "text": [
      "Input shape = (347227, 89), target shape = (347227,)\n"
     ]
    }
   ],
   "source": [
    "print(\"Input shape = {}, target shape = {}\".format(x.shape, y_vol_per_atom.shape))\n",
    "\n",
    "# Very important for reproducibility!\n",
    "RANDOM_STATE = 42\n",
    "split_ratio = 0.2\n",
    "\n",
    "# 80 /20 Split for creating training and test set \n",
    "X, X_test, y, y_test = train_test_split(x, y_vol_per_atom, test_size=split_ratio, random_state=RANDOM_STATE)"
   ]
  },
  {
   "cell_type": "markdown",
   "metadata": {
    "id": "LVHIBu7dvAcN"
   },
   "source": [
    "It is sometimes beneficial to change the scale of the input for training. So in the following use the StandardScaler() to transform the training/validation data X and test data X_test. `This standardScaler()` is for standardizing the features by removing the mean and scaling to unit variance."
   ]
  },
  {
   "cell_type": "code",
   "execution_count": 8,
   "metadata": {
    "id": "wNYLm00tvA7V"
   },
   "outputs": [],
   "source": [
    "scaler = StandardScaler()\n",
    "X = scaler.fit_transform(X)\n",
    "X_test = scaler.transform(X_test)\n"
   ]
  },
  {
   "cell_type": "markdown",
   "metadata": {
    "id": "vJ87BNxewBDm"
   },
   "source": [
    "### Splitting validation data from the train dataset\n",
    "\n",
    "We already split off a test data set and want to split X further into a training and validation data set. The distinction between test and validation set is important here, as we indirectly use the validation set during training to validate, when training is completed.\n",
    "\n",
    "In the following, use train_test_split() to split X and y in a training and validation set."
   ]
  },
  {
   "cell_type": "code",
   "execution_count": 9,
   "metadata": {
    "id": "nwKdRXm0wBdm"
   },
   "outputs": [],
   "source": [
    "X_train, X_val, y_train, y_val = train_test_split(X, y, test_size=split_ratio, random_state=RANDOM_STATE)"
   ]
  },
  {
   "cell_type": "markdown",
   "metadata": {
    "id": "trVP-ArXxo2l"
   },
   "source": [
    "### Training  a neural network\n",
    "\n",
    "Now let's start with a simple neural network. The first argument that we pass to the dense layer is the number of units contained in the layer."
   ]
  },
  {
   "cell_type": "code",
   "execution_count": 18,
   "metadata": {
    "id": "YDkxU3-nytMN"
   },
   "outputs": [
    {
     "name": "stderr",
     "output_type": "stream",
     "text": [
      "2022-11-13 18:49:01.133908: I tensorflow/core/platform/cpu_feature_guard.cc:193] This TensorFlow binary is optimized with oneAPI Deep Neural Network Library (oneDNN) to use the following CPU instructions in performance-critical operations:  SSE4.1 SSE4.2 AVX AVX2 FMA\n",
      "To enable them in other operations, rebuild TensorFlow with the appropriate compiler flags.\n",
      "2022-11-13 18:49:01.135184: I tensorflow/core/common_runtime/process_util.cc:146] Creating new thread pool with default inter op setting: 2. Tune using inter_op_parallelism_threads for best performance.\n"
     ]
    }
   ],
   "source": [
    "# Define the size of the input layer.\n",
    "n_feat = X_train.shape[1]\n",
    "x_input = Input(shape=(n_feat,), name=\"x_input\")\n",
    "\n",
    "# Define the size of the hidden layers (two of them).\n",
    "x = Dense(128, activation=\"relu\")(x_input)\n",
    "x = Dense(64, activation=\"relu\")(x)\n",
    "\n",
    "# Define the size of the output layer.\n",
    "output = Dense(1)(x)\n",
    "\n",
    "# Define the model.\n",
    "model = Model(x_input, output)\n",
    "model.compile(optimizer = \"adam\", loss=[\"mse\"])"
   ]
  },
  {
   "cell_type": "markdown",
   "metadata": {
    "id": "Htxe8EJ5zd38"
   },
   "source": [
    "After defining the model we can train. We only use part of the data at first, to keep the training time manageable. \n",
    "\n",
    "Batch_size determines with how big of a part of the data we train in each step, while the number of epochs is how often we go through all batches."
   ]
  },
  {
   "cell_type": "code",
   "execution_count": 19,
   "metadata": {
    "colab": {
     "base_uri": "https://localhost:8080/"
    },
    "id": "viRNCy1JzhT8",
    "outputId": "ecb0fff3-5577-43d6-853e-1783fbbbaa17"
   },
   "outputs": [
    {
     "name": "stdout",
     "output_type": "stream",
     "text": [
      "Model: \"model\"\n",
      "_________________________________________________________________\n",
      " Layer (type)                Output Shape              Param #   \n",
      "=================================================================\n",
      " x_input (InputLayer)        [(None, 89)]              0         \n",
      "                                                                 \n",
      " dense (Dense)               (None, 128)               11520     \n",
      "                                                                 \n",
      " dense_1 (Dense)             (None, 64)                8256      \n",
      "                                                                 \n",
      " dense_2 (Dense)             (None, 1)                 65        \n",
      "                                                                 \n",
      "=================================================================\n",
      "Total params: 19,841\n",
      "Trainable params: 19,841\n",
      "Non-trainable params: 0\n",
      "_________________________________________________________________\n",
      "None\n",
      "Epoch 1/30\n",
      "1737/1737 [==============================] - 8s 5ms/step - loss: 18.6434 - val_loss: 7.6281\n",
      "Epoch 2/30\n",
      "1737/1737 [==============================] - 8s 5ms/step - loss: 6.6565 - val_loss: 6.6185\n",
      "Epoch 3/30\n",
      "1737/1737 [==============================] - 7s 4ms/step - loss: 6.0560 - val_loss: 6.4277\n",
      "Epoch 4/30\n",
      "1737/1737 [==============================] - 9s 5ms/step - loss: 5.8043 - val_loss: 6.3196\n",
      "Epoch 5/30\n",
      "1737/1737 [==============================] - 8s 4ms/step - loss: 5.6042 - val_loss: 6.1932\n",
      "Epoch 6/30\n",
      "1737/1737 [==============================] - 8s 4ms/step - loss: 5.4725 - val_loss: 6.1303\n",
      "Epoch 7/30\n",
      "1737/1737 [==============================] - 8s 5ms/step - loss: 5.3585 - val_loss: 5.7756\n",
      "Epoch 8/30\n",
      "1737/1737 [==============================] - 10s 6ms/step - loss: 5.2019 - val_loss: 5.7958\n",
      "Epoch 9/30\n",
      "1737/1737 [==============================] - 8s 4ms/step - loss: 5.1413 - val_loss: 5.7546\n",
      "Epoch 10/30\n",
      "1737/1737 [==============================] - 8s 5ms/step - loss: 5.0480 - val_loss: 5.5376\n",
      "Epoch 11/30\n",
      "1737/1737 [==============================] - 8s 5ms/step - loss: 4.9771 - val_loss: 5.7316\n",
      "Epoch 12/30\n",
      "1737/1737 [==============================] - 6s 4ms/step - loss: 4.9346 - val_loss: 5.7170\n",
      "Epoch 13/30\n",
      "1737/1737 [==============================] - 8s 4ms/step - loss: 4.8868 - val_loss: 5.5633\n",
      "Epoch 14/30\n",
      "1737/1737 [==============================] - 7s 4ms/step - loss: 4.8085 - val_loss: 5.5659\n",
      "Epoch 15/30\n",
      "1737/1737 [==============================] - 7s 4ms/step - loss: 4.7623 - val_loss: 5.5548\n",
      "Epoch 16/30\n",
      "1737/1737 [==============================] - 8s 5ms/step - loss: 4.7287 - val_loss: 5.4835\n",
      "Epoch 17/30\n",
      "1737/1737 [==============================] - 7s 4ms/step - loss: 4.6689 - val_loss: 5.4862\n",
      "Epoch 18/30\n",
      "1737/1737 [==============================] - 9s 5ms/step - loss: 4.6428 - val_loss: 5.3925\n",
      "Epoch 19/30\n",
      "1737/1737 [==============================] - 8s 4ms/step - loss: 4.6081 - val_loss: 5.4583\n",
      "Epoch 20/30\n",
      "1737/1737 [==============================] - 8s 4ms/step - loss: 4.5708 - val_loss: 5.3703\n",
      "Epoch 21/30\n",
      "1737/1737 [==============================] - 7s 4ms/step - loss: 4.5766 - val_loss: 5.3051\n",
      "Epoch 22/30\n",
      "1737/1737 [==============================] - 9s 5ms/step - loss: 4.5159 - val_loss: 5.4586\n",
      "Epoch 23/30\n",
      "1737/1737 [==============================] - 7s 4ms/step - loss: 4.4955 - val_loss: 5.3193\n",
      "Epoch 24/30\n",
      "1737/1737 [==============================] - 8s 5ms/step - loss: 4.4813 - val_loss: 5.1610\n",
      "Epoch 25/30\n",
      "1737/1737 [==============================] - 8s 5ms/step - loss: 4.4430 - val_loss: 5.1931\n",
      "Epoch 26/30\n",
      "1737/1737 [==============================] - 7s 4ms/step - loss: 4.4488 - val_loss: 5.3904\n",
      "Epoch 27/30\n",
      "1737/1737 [==============================] - 8s 5ms/step - loss: 4.4158 - val_loss: 5.1714\n",
      "Epoch 28/30\n",
      "1737/1737 [==============================] - 7s 4ms/step - loss: 4.3983 - val_loss: 5.1236\n",
      "Epoch 29/30\n",
      "1737/1737 [==============================] - 7s 4ms/step - loss: 4.3794 - val_loss: 5.2790\n",
      "Epoch 30/30\n",
      "1737/1737 [==============================] - 7s 4ms/step - loss: 4.3810 - val_loss: 5.2081\n"
     ]
    }
   ],
   "source": [
    "batch_size = 64\n",
    "epochs = 30\n",
    "divie_data_set_by=2\n",
    "\n",
    "print(model.summary())\n",
    "history = model.fit(X_train[::divie_data_set_by], y_train[::divie_data_set_by], validation_data = (X_val[::divie_data_set_by], y_val[::divie_data_set_by]), epochs=epochs, batch_size=batch_size, verbose=True)"
   ]
  },
  {
   "cell_type": "markdown",
   "metadata": {
    "id": "JnFYmUEg2fbf"
   },
   "source": [
    "During the above training we could see that the loss of the validation data set was decreasing at first but starting to level off and depending on the choice of training data and initial weights it might have already increased. The loss of the training data set kept decreasing on the other hand. \n",
    "\n",
    "Ideally our model should well generalize and thus make good predictions on data that it was not training on. For this reason we want to stop the training, as soon as the validation loss does not decrease anymore and neither earlier nor later. \n",
    "\n",
    "This can be automated with the EarlyStopping callback. In the following we will continue training the above model until the validation loss does not decrease anymore and do not start from scratch. This is done by calling model.fit() again."
   ]
  },
  {
   "cell_type": "code",
   "execution_count": 20,
   "metadata": {
    "colab": {
     "base_uri": "https://localhost:8080/"
    },
    "id": "gXA45LSM3TlN",
    "outputId": "25700dc6-837c-49a4-89f9-27b463589d0d"
   },
   "outputs": [
    {
     "name": "stdout",
     "output_type": "stream",
     "text": [
      "Model: \"model\"\n",
      "_________________________________________________________________\n",
      " Layer (type)                Output Shape              Param #   \n",
      "=================================================================\n",
      " x_input (InputLayer)        [(None, 89)]              0         \n",
      "                                                                 \n",
      " dense (Dense)               (None, 128)               11520     \n",
      "                                                                 \n",
      " dense_1 (Dense)             (None, 64)                8256      \n",
      "                                                                 \n",
      " dense_2 (Dense)             (None, 1)                 65        \n",
      "                                                                 \n",
      "=================================================================\n",
      "Total params: 19,841\n",
      "Trainable params: 19,841\n",
      "Non-trainable params: 0\n",
      "_________________________________________________________________\n",
      "None\n",
      "Epoch 1/30\n",
      "1737/1737 [==============================] - 8s 5ms/step - loss: 4.3479 - val_loss: 5.2866\n",
      "Epoch 2/30\n",
      "1737/1737 [==============================] - 7s 4ms/step - loss: 4.3365 - val_loss: 5.1662\n",
      "Epoch 3/30\n",
      "1737/1737 [==============================] - 7s 4ms/step - loss: 4.3339 - val_loss: 5.3320\n",
      "Epoch 4/30\n",
      "1737/1737 [==============================] - 8s 5ms/step - loss: 4.3237 - val_loss: 5.2418\n",
      "Epoch 5/30\n",
      "1737/1737 [==============================] - 8s 5ms/step - loss: 4.3117 - val_loss: 5.1883\n"
     ]
    }
   ],
   "source": [
    "batch_size = 64\n",
    "epochs = 30\n",
    "divie_data_set_by=2\n",
    "\n",
    "#patience defines here how many epochs we wait for an improvement in validation loss before we stop. \n",
    "callback = tf.keras.callbacks.EarlyStopping(monitor='val_loss', patience=3)\n",
    "\n",
    "print(model.summary())\n",
    "history = model.fit(X_train[::divie_data_set_by], y_train[::divie_data_set_by], validation_data = (X_val[::divie_data_set_by], y_val[::divie_data_set_by]), epochs=epochs, batch_size=batch_size, verbose=True, callbacks=[callback])"
   ]
  },
  {
   "cell_type": "markdown",
   "metadata": {
    "id": "SXz-sxph8bUU"
   },
   "source": [
    "For our big data set our model is too simple. So let's change our neural network architechture to optimize performance.\n",
    "\n",
    "Let's add another layer to the model to make it more complex. Implement the required changes to the cell below."
   ]
  },
  {
   "cell_type": "code",
   "execution_count": 21,
   "metadata": {
    "id": "2e0Fi9Gu8bxq"
   },
   "outputs": [],
   "source": [
    "n_feat = X_train.shape[1]\n",
    "x_input = Input(shape=(n_feat,), name=\"x_input\")\n",
    "x = Dense(128, activation=\"relu\")(x_input)\n",
    "#Add another Dense layer with the same amount of units\n",
    "x = Dense(128, activation=\"relu\")(x)\n",
    "x = Dense(64, activation=\"relu\")(x)\n",
    "output = Dense(1)(x)\n",
    "model = Model(x_input, output)\n",
    "model.compile(optimizer = \"adam\", loss=[\"mse\"])"
   ]
  },
  {
   "cell_type": "markdown",
   "metadata": {
    "id": "pfw-1E5z-Pek"
   },
   "source": [
    "Now train the more complex model with the full data set. Implement the required changes to the cell below."
   ]
  },
  {
   "cell_type": "code",
   "execution_count": 22,
   "metadata": {
    "colab": {
     "base_uri": "https://localhost:8080/"
    },
    "id": "wA-XLeuc-QR2",
    "outputId": "fe093e1a-9f1d-4a92-9edf-d4ce9a7c11b7"
   },
   "outputs": [
    {
     "name": "stdout",
     "output_type": "stream",
     "text": [
      "Model: \"model_1\"\n",
      "_________________________________________________________________\n",
      " Layer (type)                Output Shape              Param #   \n",
      "=================================================================\n",
      " x_input (InputLayer)        [(None, 89)]              0         \n",
      "                                                                 \n",
      " dense_3 (Dense)             (None, 128)               11520     \n",
      "                                                                 \n",
      " dense_4 (Dense)             (None, 128)               16512     \n",
      "                                                                 \n",
      " dense_5 (Dense)             (None, 64)                8256      \n",
      "                                                                 \n",
      " dense_6 (Dense)             (None, 1)                 65        \n",
      "                                                                 \n",
      "=================================================================\n",
      "Total params: 36,353\n",
      "Trainable params: 36,353\n",
      "Non-trainable params: 0\n",
      "_________________________________________________________________\n",
      "None\n",
      "Epoch 1/10\n",
      "3473/3473 [==============================] - 17s 5ms/step - loss: 10.9714 - val_loss: 6.6372\n",
      "Epoch 2/10\n",
      "3473/3473 [==============================] - 18s 5ms/step - loss: 6.0295 - val_loss: 5.9986\n",
      "Epoch 3/10\n",
      "3473/3473 [==============================] - 18s 5ms/step - loss: 5.5735 - val_loss: 5.4734\n",
      "Epoch 4/10\n",
      "3473/3473 [==============================] - 17s 5ms/step - loss: 5.3565 - val_loss: 5.8076\n",
      "Epoch 5/10\n",
      "3473/3473 [==============================] - 17s 5ms/step - loss: 5.2008 - val_loss: 5.3313\n",
      "Epoch 6/10\n",
      "3473/3473 [==============================] - 17s 5ms/step - loss: 5.1103 - val_loss: 5.2005\n",
      "Epoch 7/10\n",
      "3473/3473 [==============================] - 20s 6ms/step - loss: 5.0249 - val_loss: 5.2780\n",
      "Epoch 8/10\n",
      "3473/3473 [==============================] - 19s 6ms/step - loss: 4.9576 - val_loss: 5.0985\n",
      "Epoch 9/10\n",
      "3473/3473 [==============================] - 19s 6ms/step - loss: 4.8950 - val_loss: 5.5604\n",
      "Epoch 10/10\n",
      "3473/3473 [==============================] - 19s 6ms/step - loss: 4.8522 - val_loss: 4.9241\n"
     ]
    }
   ],
   "source": [
    "batch_size = 64\n",
    "epochs = 10\n",
    "divie_data_set_by=1\n",
    "\n",
    "#patience defines here how many epochs we wait for an improvement in validation loss before we stop. \n",
    "callback = tf.keras.callbacks.EarlyStopping(monitor='val_loss', patience=3)\n",
    "\n",
    "print(model.summary())\n",
    "history = model.fit(X_train[::divie_data_set_by], y_train[::divie_data_set_by], validation_data = (X_val[::divie_data_set_by], y_val[::divie_data_set_by]), epochs=epochs, batch_size=batch_size, verbose=True, callbacks=[callback])"
   ]
  },
  {
   "cell_type": "markdown",
   "metadata": {
    "id": "KBccBdfFAlAs"
   },
   "source": [
    "As we saw earlier, training the neural network too long can lead to overfitting, i.e. a low training loss and high validation loss. Another way to counteract overfitting is to use dropout layers.\n",
    "\n",
    "A dropout layer randomly omits part of the neurons during training and thus makes it more difficult for the neural network to fine-tune itself only to the training data. "
   ]
  },
  {
   "cell_type": "code",
   "execution_count": 23,
   "metadata": {
    "id": "xAdmt4ObAkws"
   },
   "outputs": [],
   "source": [
    "n_feat = X_train.shape[1]\n",
    "x_input = Input(shape=(n_feat,), name=\"x_input\")\n",
    "x = Dense(128, activation=\"relu\")(x_input)\n",
    "x = Dense(128, activation=\"relu\")(x)\n",
    "#Add a Dropout layer with dropout rate 0.05 here. It is already imported as Dropout() and the documentation can be found in the following:\n",
    "#https://keras.io/api/layers/regularization_layers/dropout/\n",
    "x = Dropout(0.05)(x)\n",
    "x = Dense(64, activation=\"relu\")(x)\n",
    "output = Dense(1)(x)\n",
    "model = Model(x_input, output)\n",
    "model.compile(optimizer = \"adam\", loss=[\"mse\"])"
   ]
  },
  {
   "cell_type": "markdown",
   "metadata": {
    "id": "6ObHHHxFCcCb"
   },
   "source": [
    "Now we can train the new model. We will only do two epochs to save time."
   ]
  },
  {
   "cell_type": "code",
   "execution_count": 24,
   "metadata": {
    "colab": {
     "base_uri": "https://localhost:8080/"
    },
    "id": "vbhprtveCcjc",
    "outputId": "fb344df3-fe76-4b74-f5cf-42e46d0a0dcb"
   },
   "outputs": [
    {
     "name": "stdout",
     "output_type": "stream",
     "text": [
      "Model: \"model_2\"\n",
      "_________________________________________________________________\n",
      " Layer (type)                Output Shape              Param #   \n",
      "=================================================================\n",
      " x_input (InputLayer)        [(None, 89)]              0         \n",
      "                                                                 \n",
      " dense_7 (Dense)             (None, 128)               11520     \n",
      "                                                                 \n",
      " dense_8 (Dense)             (None, 128)               16512     \n",
      "                                                                 \n",
      " dropout (Dropout)           (None, 128)               0         \n",
      "                                                                 \n",
      " dense_9 (Dense)             (None, 64)                8256      \n",
      "                                                                 \n",
      " dense_10 (Dense)            (None, 1)                 65        \n",
      "                                                                 \n",
      "=================================================================\n",
      "Total params: 36,353\n",
      "Trainable params: 36,353\n",
      "Non-trainable params: 0\n",
      "_________________________________________________________________\n",
      "None\n",
      "Epoch 1/2\n",
      "3473/3473 [==============================] - 20s 6ms/step - loss: 11.7657 - val_loss: 6.3191\n",
      "Epoch 2/2\n",
      "3473/3473 [==============================] - 20s 6ms/step - loss: 6.4613 - val_loss: 6.0218\n"
     ]
    }
   ],
   "source": [
    "batch_size = 64\n",
    "epochs = 2\n",
    "divie_data_set_by=1\n",
    "\n",
    "#patience defines here how many epochs we wait for an improvement in validation loss before we stop. \n",
    "callback = tf.keras.callbacks.EarlyStopping(monitor='val_loss', patience=3)\n",
    "\n",
    "print(model.summary())\n",
    "history = model.fit(X_train[::divie_data_set_by], y_train[::divie_data_set_by], validation_data = (X_val[::divie_data_set_by], y_val[::divie_data_set_by]), epochs=epochs, batch_size=batch_size, verbose=True, callbacks=[callback])"
   ]
  }
 ],
 "metadata": {
  "colab": {
   "collapsed_sections": [],
   "provenance": []
  },
  "kernelspec": {
   "display_name": "Python 3 (ipykernel)",
   "language": "python",
   "name": "python3"
  },
  "language_info": {
   "codemirror_mode": {
    "name": "ipython",
    "version": 3
   },
   "file_extension": ".py",
   "mimetype": "text/x-python",
   "name": "python",
   "nbconvert_exporter": "python",
   "pygments_lexer": "ipython3",
   "version": "3.10.6"
  }
 },
 "nbformat": 4,
 "nbformat_minor": 1
}
