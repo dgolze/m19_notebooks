{
 "cells": [
  {
   "cell_type": "markdown",
   "id": "structured-cyprus",
   "metadata": {},
   "source": [
    "# Examples for photoemission lecture part II"
   ]
  },
  {
   "cell_type": "markdown",
   "id": "economic-therapy",
   "metadata": {},
   "source": [
    "## Graphical solution of the QP equation\n",
    "\n",
    "We want to compute the first ionization potential for benzene, i.e., the binding energy for the HOMO level. The self-energy is provided in the file `self_energy_analytic_state_21.dat` and was computed with $G_0W_0$@PBE. (Level 21 is the HOMO level since benzene has 42 electrons and is closed shell). The first column are the frequencies and the second column is the real part of the self-energy and the third column the imaginary part of the self-energy. Note that the first column is in eV, but the second and third in atomic units (conversion to eV needed). For the HOMO level we have further\n",
    "\n",
    "- exchange correlation potential: $v^{xc}_{\\text{HOMO}}$ = -13.5051 eV\n",
    "- exchange part of the self-energy: $\\Sigma^{x}_{\\text{HOMO}}$ = -16.0698 eV\n",
    "- Kohn-Sham energy: $\\epsilon^{\\text{KS}}_{\\text{HOMO}}$ = -6.3048 eV\n",
    "\n",
    "**Tasks/Questions**\n",
    "\n",
    "- read in the self-energy data and plot the real part of the self-energy vs the frequency for $-20 \\text{eV} <\\omega < 12~\\text{eV} $\n",
    "- plot the straight line $\\omega + v^{xc}_s -\\Sigma_s^x-\\epsilon_s^{\\text{KS}}$ in the same interval\n",
    "- find the intersection between real part of the self-energy and the straight line"
   ]
  },
  {
   "cell_type": "code",
   "execution_count": 2,
   "id": "vietnamese-picking",
   "metadata": {},
   "outputs": [
    {
     "ename": "SyntaxError",
     "evalue": "invalid syntax (<ipython-input-2-f8f974ab6a93>, line 5)",
     "output_type": "error",
     "traceback": [
      "\u001b[0;36m  File \u001b[0;32m\"<ipython-input-2-f8f974ab6a93>\"\u001b[0;36m, line \u001b[0;32m5\u001b[0m\n\u001b[0;31m    vxc =                   #exchange correlation\u001b[0m\n\u001b[0m                                                 ^\u001b[0m\n\u001b[0;31mSyntaxError\u001b[0m\u001b[0;31m:\u001b[0m invalid syntax\n"
     ]
    }
   ],
   "source": [
    "from numpy import loadtxt, arange\n",
    "from matplotlib import pyplot as plt\n",
    "\n",
    "\"\"\"Parameters in eV\"\"\"\n",
    "vxc =                   #exchange correlation\n",
    "Sigmax =                #exchange part of Sigma\n",
    "epsilonKS =             #KS eigenvalue\n",
    "auToeV = 27.211399 \n",
    "\n",
    "\"\"\"Plotting ranges in eV\"\"\"\n",
    "a = \n",
    "b = \n",
    "\n",
    "\"\"\"Define function (straight line)\"\"\"\n",
    "def m(x):\n",
    "    return  ?????\n",
    "\n",
    "\"\"\"Read in real part of self-energy\"\"\"\n",
    "selfenergy_array= loadtxt('self_energy_analytic_state_21.dat', usecols=(0,1))\n",
    "\n",
    "\n",
    "\"\"\"Generate values for straight line\"\"\"\n",
    "omegapoints =  arange(a,b,0.001)\n",
    "ypoints =[]\n",
    "for x in omegapoints:\n",
    "    ypoints.append(m(x))\n",
    "\n",
    "\"\"\"Plot\"\"\"\n",
    "plt.figure(figsize=(7.5,5))\n",
    "plt.xlim(a,b)\n",
    "plt.ylim(-10,10)\n",
    "#PLOT here\n"
   ]
  },
  {
   "cell_type": "code",
   "execution_count": null,
   "id": "fifteen-diamond",
   "metadata": {},
   "outputs": [],
   "source": []
  }
 ],
 "metadata": {
  "kernelspec": {
   "display_name": "Python 3",
   "language": "python",
   "name": "python3"
  },
  "language_info": {
   "codemirror_mode": {
    "name": "ipython",
    "version": 3
   },
   "file_extension": ".py",
   "mimetype": "text/x-python",
   "name": "python",
   "nbconvert_exporter": "python",
   "pygments_lexer": "ipython3",
   "version": "3.6.13"
  }
 },
 "nbformat": 4,
 "nbformat_minor": 5
}
