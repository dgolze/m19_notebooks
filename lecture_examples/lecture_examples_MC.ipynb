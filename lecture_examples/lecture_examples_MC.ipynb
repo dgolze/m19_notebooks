{
 "cells": [
  {
   "cell_type": "markdown",
   "id": "inappropriate-motivation",
   "metadata": {},
   "source": [
    "# Examples for MC lecture part I"
   ]
  },
  {
   "cell_type": "markdown",
   "id": "detailed-failure",
   "metadata": {},
   "source": [
    "## A simple example: MC calculation of $\\pi$\n",
    "\n",
    "\n",
    "\"Hit and miss\" experiment estimating the ratio of the circle with radius $R$ to the area of the square:\n",
    "\n",
    "$$\n",
    "\\frac{\\text{Area 1/4 circle}}{\\text{Area square}} = \\frac{0.25 \\pi R^2}{R^2} = \\frac{\\pi}{4} = \\frac{\\text{Number of hits inside}}{\\text{Number of draws from}~0\\leq x,y <R}\n",
    "$$\n",
    "\n",
    "**Tasks/Questions**\n",
    "\n",
    "- run the little program below several times (e.g. add a for  loop)\n",
    "- run with a different number of trials/draws\n",
    "- What is the relation between deviation from the real value and number of trials, i.e., how much more trials do you need to reduce the deviation by one order of magnitude"
   ]
  },
  {
   "cell_type": "code",
   "execution_count": null,
   "id": "bizarre-money",
   "metadata": {},
   "outputs": [],
   "source": [
    "import random as rand\n",
    "import math \n",
    "\n",
    "#Input parameters\n",
    "ntrials = 100  # Play with this parameter\n",
    "radius = 1.0\n",
    "\n",
    "#Counter for points inside the circle\n",
    "ninside = 0\n",
    "\n",
    "for i in range(0, ntrials):\n",
    "    # Generate random x, y in [0, 1).\n",
    "    x = rand.random()\n",
    "    y = rand.random()\n",
    "    # Increment if inside unit circle.\n",
    "    if math.sqrt(x**2 + y**2) < radius:\n",
    "        ninside += 1\n",
    "\n",
    "# ninside / ntrials = pi / 4\n",
    "pi = (float(ninside) / ntrials) * 4\n",
    "\n",
    "\n",
    "print(\"MC-value of pi\", pi)\n",
    "print(\"Actual value of pi\", math.pi)\n",
    "print(\"Difference\", abs(pi-math.pi))"
   ]
  },
  {
   "cell_type": "markdown",
   "id": "removable-couple",
   "metadata": {},
   "source": [
    " ## Random number generator: linear congruential generator (LCG)\n",
    "- returns a squence of pseudo random numbers\n",
    "- oldest, best-known pseudorandom number generator\n",
    "- Algorithm $I_{n+1} = (aI_n + c)~\\text{mod}~m$\n",
    "\n",
    "**Tasks**\n",
    "- Plot $I_{n+1}/m$ vs $I_{n}/m$ -\n",
    "- change $a$ from 100 to 110 and observe patterns\n",
    "- Play also with the sample size and seed"
   ]
  },
  {
   "cell_type": "code",
   "execution_count": 3,
   "id": "ruled-craps",
   "metadata": {},
   "outputs": [],
   "source": [
    "from matplotlib import pyplot as plt\n",
    "\n",
    "#Input parameters\n",
    "a = 106  # CHANGE this paramter\n",
    "c = 1283\n",
    "m = 6075\n",
    "I0 = 8    # CHANGE this paramter\n",
    "size = 100 # CHANGE this paramter\n",
    "\n",
    "I=I0\n",
    "In = []  #I_n/m\n",
    "Inp = [] #I_(n+1)/m\n",
    "for i in range(size):\n",
    "    In.append(I/m)\n",
    "    I = (a*I + c) % m\n",
    "    Inp.append(I/m)\n",
    "    \n",
    "# Add plots here\n",
    "\n"
   ]
  },
  {
   "cell_type": "code",
   "execution_count": null,
   "id": "focused-fifty",
   "metadata": {},
   "outputs": [],
   "source": []
  }
 ],
 "metadata": {
  "kernelspec": {
   "display_name": "Python 3",
   "language": "python",
   "name": "python3"
  },
  "language_info": {
   "codemirror_mode": {
    "name": "ipython",
    "version": 3
   },
   "file_extension": ".py",
   "mimetype": "text/x-python",
   "name": "python",
   "nbconvert_exporter": "python",
   "pygments_lexer": "ipython3",
   "version": "3.6.13"
  }
 },
 "nbformat": 4,
 "nbformat_minor": 5
}
